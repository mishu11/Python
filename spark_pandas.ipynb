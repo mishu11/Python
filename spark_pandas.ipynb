{
  "cells": [
    {
      "cell_type": "markdown",
      "metadata": {
        "id": "view-in-github",
        "colab_type": "text"
      },
      "source": [
        "<a href=\"https://colab.research.google.com/github/mishu11/Python/blob/main/spark_pandas.ipynb\" target=\"_parent\"><img src=\"https://colab.research.google.com/assets/colab-badge.svg\" alt=\"Open In Colab\"/></a>"
      ]
    },
    {
      "cell_type": "markdown",
      "source": [
        "#pySpark"
      ],
      "metadata": {
        "id": "D8kbbloByMTg"
      }
    },
    {
      "cell_type": "code",
      "source": [
        "pip install pyspark"
      ],
      "metadata": {
        "id": "AwMIEiWlTjtI",
        "colab": {
          "base_uri": "https://localhost:8080/"
        },
        "outputId": "9a5257f8-9276-4466-c427-f280b193f13e"
      },
      "execution_count": null,
      "outputs": [
        {
          "output_type": "stream",
          "name": "stdout",
          "text": [
            "Looking in indexes: https://pypi.org/simple, https://us-python.pkg.dev/colab-wheels/public/simple/\n",
            "Collecting pyspark\n",
            "  Downloading pyspark-3.3.0.tar.gz (281.3 MB)\n",
            "\u001b[K     |████████████████████████████████| 281.3 MB 46 kB/s \n",
            "\u001b[?25hCollecting py4j==0.10.9.5\n",
            "  Downloading py4j-0.10.9.5-py2.py3-none-any.whl (199 kB)\n",
            "\u001b[K     |████████████████████████████████| 199 kB 30.5 MB/s \n",
            "\u001b[?25hBuilding wheels for collected packages: pyspark\n",
            "  Building wheel for pyspark (setup.py) ... \u001b[?25l\u001b[?25hdone\n",
            "  Created wheel for pyspark: filename=pyspark-3.3.0-py2.py3-none-any.whl size=281764026 sha256=b9f86f2af7ddbde8a912fb267ee83f8a73b1b05bdc673ad95a43470342695fc1\n",
            "  Stored in directory: /root/.cache/pip/wheels/7a/8e/1b/f73a52650d2e5f337708d9f6a1750d451a7349a867f928b885\n",
            "Successfully built pyspark\n",
            "Installing collected packages: py4j, pyspark\n",
            "Successfully installed py4j-0.10.9.5 pyspark-3.3.0\n"
          ]
        }
      ]
    },
    {
      "cell_type": "code",
      "source": [
        "from pyspark.sql import SparkSession\n",
        "from pyspark.sql.types import *\n",
        "from pyspark.sql.functions import *\n",
        "import pandas as pd\n",
        "import numpy as np\n"
      ],
      "metadata": {
        "id": "F7E7LMzTyRP5"
      },
      "execution_count": null,
      "outputs": []
    },
    {
      "cell_type": "code",
      "source": [
        "spark = SparkSession.builder.appName('Spark Practice').master('local[*]').getOrCreate()"
      ],
      "metadata": {
        "id": "5vSBDOZ1zEuX"
      },
      "execution_count": null,
      "outputs": []
    },
    {
      "cell_type": "code",
      "source": [
        "a = to_date('2021-04-30')\n",
        "dates = spark.sql(f\"\"\"select last_day(to_date({a})) as start_date, last_day(to_date('2021-04-30')-interval 1 month) as end_date;\"\"\")\n",
        "sd = dates.toPandas()['start_date'][0]\n",
        "ed = dates.toPandas()['end_date'][0]\n",
        "print(sd, ed)"
      ],
      "metadata": {
        "colab": {
          "base_uri": "https://localhost:8080/",
          "height": 483
        },
        "id": "gFfoQlWrfXwr",
        "outputId": "a7babf2e-d5c2-49d4-e5db-2a33a63bfcb1"
      },
      "execution_count": null,
      "outputs": [
        {
          "output_type": "error",
          "ename": "ParseException",
          "evalue": "ignored",
          "traceback": [
            "\u001b[0;31m---------------------------------------------------------------------------\u001b[0m",
            "\u001b[0;31mParseException\u001b[0m                            Traceback (most recent call last)",
            "\u001b[0;32m<ipython-input-110-ac4af526c76a>\u001b[0m in \u001b[0;36m<module>\u001b[0;34m\u001b[0m\n\u001b[1;32m      1\u001b[0m \u001b[0ma\u001b[0m \u001b[0;34m=\u001b[0m \u001b[0mto_date\u001b[0m\u001b[0;34m(\u001b[0m\u001b[0;34m'2021-04-30'\u001b[0m\u001b[0;34m)\u001b[0m\u001b[0;34m\u001b[0m\u001b[0;34m\u001b[0m\u001b[0m\n\u001b[0;32m----> 2\u001b[0;31m \u001b[0mdates\u001b[0m \u001b[0;34m=\u001b[0m \u001b[0mspark\u001b[0m\u001b[0;34m.\u001b[0m\u001b[0msql\u001b[0m\u001b[0;34m(\u001b[0m\u001b[0;34mf\"\"\"select last_day(to_date({a})) as start_date, last_day(to_date('2021-04-30')-interval 1 month) as end_date;\"\"\"\u001b[0m\u001b[0;34m)\u001b[0m\u001b[0;34m\u001b[0m\u001b[0;34m\u001b[0m\u001b[0m\n\u001b[0m\u001b[1;32m      3\u001b[0m \u001b[0msd\u001b[0m \u001b[0;34m=\u001b[0m \u001b[0mdates\u001b[0m\u001b[0;34m.\u001b[0m\u001b[0mtoPandas\u001b[0m\u001b[0;34m(\u001b[0m\u001b[0;34m)\u001b[0m\u001b[0;34m[\u001b[0m\u001b[0;34m'start_date'\u001b[0m\u001b[0;34m]\u001b[0m\u001b[0;34m[\u001b[0m\u001b[0;36m0\u001b[0m\u001b[0;34m]\u001b[0m\u001b[0;34m\u001b[0m\u001b[0;34m\u001b[0m\u001b[0m\n\u001b[1;32m      4\u001b[0m \u001b[0med\u001b[0m \u001b[0;34m=\u001b[0m \u001b[0mdates\u001b[0m\u001b[0;34m.\u001b[0m\u001b[0mtoPandas\u001b[0m\u001b[0;34m(\u001b[0m\u001b[0;34m)\u001b[0m\u001b[0;34m[\u001b[0m\u001b[0;34m'end_date'\u001b[0m\u001b[0;34m]\u001b[0m\u001b[0;34m[\u001b[0m\u001b[0;36m0\u001b[0m\u001b[0;34m]\u001b[0m\u001b[0;34m\u001b[0m\u001b[0;34m\u001b[0m\u001b[0m\n\u001b[1;32m      5\u001b[0m \u001b[0mprint\u001b[0m\u001b[0;34m(\u001b[0m\u001b[0msd\u001b[0m\u001b[0;34m,\u001b[0m \u001b[0med\u001b[0m\u001b[0;34m)\u001b[0m\u001b[0;34m\u001b[0m\u001b[0;34m\u001b[0m\u001b[0m\n",
            "\u001b[0;32m/usr/local/lib/python3.7/dist-packages/pyspark/sql/session.py\u001b[0m in \u001b[0;36msql\u001b[0;34m(self, sqlQuery, **kwargs)\u001b[0m\n\u001b[1;32m   1032\u001b[0m             \u001b[0msqlQuery\u001b[0m \u001b[0;34m=\u001b[0m \u001b[0mformatter\u001b[0m\u001b[0;34m.\u001b[0m\u001b[0mformat\u001b[0m\u001b[0;34m(\u001b[0m\u001b[0msqlQuery\u001b[0m\u001b[0;34m,\u001b[0m \u001b[0;34m**\u001b[0m\u001b[0mkwargs\u001b[0m\u001b[0;34m)\u001b[0m\u001b[0;34m\u001b[0m\u001b[0;34m\u001b[0m\u001b[0m\n\u001b[1;32m   1033\u001b[0m         \u001b[0;32mtry\u001b[0m\u001b[0;34m:\u001b[0m\u001b[0;34m\u001b[0m\u001b[0;34m\u001b[0m\u001b[0m\n\u001b[0;32m-> 1034\u001b[0;31m             \u001b[0;32mreturn\u001b[0m \u001b[0mDataFrame\u001b[0m\u001b[0;34m(\u001b[0m\u001b[0mself\u001b[0m\u001b[0;34m.\u001b[0m\u001b[0m_jsparkSession\u001b[0m\u001b[0;34m.\u001b[0m\u001b[0msql\u001b[0m\u001b[0;34m(\u001b[0m\u001b[0msqlQuery\u001b[0m\u001b[0;34m)\u001b[0m\u001b[0;34m,\u001b[0m \u001b[0mself\u001b[0m\u001b[0;34m)\u001b[0m\u001b[0;34m\u001b[0m\u001b[0;34m\u001b[0m\u001b[0m\n\u001b[0m\u001b[1;32m   1035\u001b[0m         \u001b[0;32mfinally\u001b[0m\u001b[0;34m:\u001b[0m\u001b[0;34m\u001b[0m\u001b[0;34m\u001b[0m\u001b[0m\n\u001b[1;32m   1036\u001b[0m             \u001b[0;32mif\u001b[0m \u001b[0mlen\u001b[0m\u001b[0;34m(\u001b[0m\u001b[0mkwargs\u001b[0m\u001b[0;34m)\u001b[0m \u001b[0;34m>\u001b[0m \u001b[0;36m0\u001b[0m\u001b[0;34m:\u001b[0m\u001b[0;34m\u001b[0m\u001b[0;34m\u001b[0m\u001b[0m\n",
            "\u001b[0;32m/usr/local/lib/python3.7/dist-packages/py4j/java_gateway.py\u001b[0m in \u001b[0;36m__call__\u001b[0;34m(self, *args)\u001b[0m\n\u001b[1;32m   1320\u001b[0m         \u001b[0manswer\u001b[0m \u001b[0;34m=\u001b[0m \u001b[0mself\u001b[0m\u001b[0;34m.\u001b[0m\u001b[0mgateway_client\u001b[0m\u001b[0;34m.\u001b[0m\u001b[0msend_command\u001b[0m\u001b[0;34m(\u001b[0m\u001b[0mcommand\u001b[0m\u001b[0;34m)\u001b[0m\u001b[0;34m\u001b[0m\u001b[0;34m\u001b[0m\u001b[0m\n\u001b[1;32m   1321\u001b[0m         return_value = get_return_value(\n\u001b[0;32m-> 1322\u001b[0;31m             answer, self.gateway_client, self.target_id, self.name)\n\u001b[0m\u001b[1;32m   1323\u001b[0m \u001b[0;34m\u001b[0m\u001b[0m\n\u001b[1;32m   1324\u001b[0m         \u001b[0;32mfor\u001b[0m \u001b[0mtemp_arg\u001b[0m \u001b[0;32min\u001b[0m \u001b[0mtemp_args\u001b[0m\u001b[0;34m:\u001b[0m\u001b[0;34m\u001b[0m\u001b[0;34m\u001b[0m\u001b[0m\n",
            "\u001b[0;32m/usr/local/lib/python3.7/dist-packages/pyspark/sql/utils.py\u001b[0m in \u001b[0;36mdeco\u001b[0;34m(*a, **kw)\u001b[0m\n\u001b[1;32m    194\u001b[0m                 \u001b[0;31m# Hide where the exception came from that shows a non-Pythonic\u001b[0m\u001b[0;34m\u001b[0m\u001b[0;34m\u001b[0m\u001b[0;34m\u001b[0m\u001b[0m\n\u001b[1;32m    195\u001b[0m                 \u001b[0;31m# JVM exception message.\u001b[0m\u001b[0;34m\u001b[0m\u001b[0;34m\u001b[0m\u001b[0;34m\u001b[0m\u001b[0m\n\u001b[0;32m--> 196\u001b[0;31m                 \u001b[0;32mraise\u001b[0m \u001b[0mconverted\u001b[0m \u001b[0;32mfrom\u001b[0m \u001b[0;32mNone\u001b[0m\u001b[0;34m\u001b[0m\u001b[0;34m\u001b[0m\u001b[0m\n\u001b[0m\u001b[1;32m    197\u001b[0m             \u001b[0;32melse\u001b[0m\u001b[0;34m:\u001b[0m\u001b[0;34m\u001b[0m\u001b[0;34m\u001b[0m\u001b[0m\n\u001b[1;32m    198\u001b[0m                 \u001b[0;32mraise\u001b[0m\u001b[0;34m\u001b[0m\u001b[0;34m\u001b[0m\u001b[0m\n",
            "\u001b[0;31mParseException\u001b[0m: \nSyntax error at or near ')'(line 1, pos 53)\n\n== SQL ==\nselect last_day(to_date(Column<'to_date(2021-04-30)'>)) as start_date, last_day(to_date('2021-04-30')-interval 1 month) as end_date;\n-----------------------------------------------------^^^\n"
          ]
        }
      ]
    },
    {
      "cell_type": "code",
      "source": [
        "a = spark.sql(f\"\"\"select current_date()>to_date({sd}) as date1\"\"\")\n",
        "a.show()"
      ],
      "metadata": {
        "colab": {
          "base_uri": "https://localhost:8080/"
        },
        "id": "3XfdSfNO5a3a",
        "outputId": "58a3f06a-fa40-48fb-dbdc-b07ce1cbcf2a"
      },
      "execution_count": null,
      "outputs": [
        {
          "output_type": "stream",
          "name": "stdout",
          "text": [
            "+-----+\n",
            "|date1|\n",
            "+-----+\n",
            "| true|\n",
            "+-----+\n",
            "\n"
          ]
        }
      ]
    },
    {
      "cell_type": "code",
      "source": [
        "arrayData = [\n",
        "    ((\"Saif\", \"\", \"Shaikh\"), [\"English\", \"Science\", \"Maths\"], \"HYD\", \"M\", 1000),\n",
        "    ((\"Ram\", \"Sachin\", \"\"), [\"Spark\", \"English\", \"Maths\"], \"BLR\", \"F\", 10000),\n",
        "    ((\"Aniket\", \"\", \"Mishra\"), [\"Civics\", \"History\"], \"HYD\", \"F\", 2000),\n",
        "    ((\"Mitali\", \"Sahil\", \"Kashiv\"), [\"Civics\", \"History\"], \"BLR\", \"M\", 5000),\n",
        "    ((\"Zaid\", \"Riyaz\", \"Shaikh\"), [\"Civics\", \"History\"], \"BLR\", \"M\", 4000),\n",
        "    ((\"Sufi\", \"Alim\", \"Shaikh\"), [\"Hindi\", \"History\"], \"HYD\", \"M\", 1000),\n",
        "    ((\"Saif\", \"\", \"Shaikh\"), [\"English\", \"Science\", \"Maths\"], \"HYD\", \"M\", 1000)\n",
        "    ]\n",
        "\n",
        "sch = StructType([\n",
        "    StructField('Full_Name', StructType([\n",
        "        StructField('fname', StringType(), True), \n",
        "        StructField('mname', StringType(), True), \n",
        "        StructField('lname', StringType(), True)]),True),\n",
        "    StructField('Subject', ArrayType(StringType()), True),\n",
        "    StructField('State', StringType(), True),\n",
        "    StructField('Gender', StringType(), True),\n",
        "    StructField('Sal', IntegerType(), True)\n",
        "])\n",
        "\n",
        "df = spark.createDataFrame(data=arrayData, schema=sch)"
      ],
      "metadata": {
        "id": "yiptXc-lzU3J"
      },
      "execution_count": null,
      "outputs": []
    },
    {
      "cell_type": "code",
      "source": [],
      "metadata": {
        "id": "ED9vqEZ-fW7w"
      },
      "execution_count": null,
      "outputs": []
    },
    {
      "cell_type": "code",
      "source": [
        "df.show()\n",
        "df.printSchema()"
      ],
      "metadata": {
        "colab": {
          "base_uri": "https://localhost:8080/"
        },
        "id": "nZaYsPKd2nJm",
        "outputId": "d6e32976-8d97-4ca9-a9bc-f06bc975bcc0"
      },
      "execution_count": null,
      "outputs": [
        {
          "output_type": "stream",
          "name": "stdout",
          "text": [
            "+--------------------+--------------------+-----+------+-----+\n",
            "|           Full_Name|             Subject|State|Gender|  Sal|\n",
            "+--------------------+--------------------+-----+------+-----+\n",
            "|    {Saif, , Shaikh}|[English, Science...|  HYD|     M| 1000|\n",
            "|     {Ram, Sachin, }|[Spark, English, ...|  BLR|     F|10000|\n",
            "|  {Aniket, , Mishra}|   [Civics, History]|  HYD|     F| 2000|\n",
            "|{Mitali, Sahil, K...|   [Civics, History]|  BLR|     M| 5000|\n",
            "|{Zaid, Riyaz, Sha...|   [Civics, History]|  BLR|     M| 4000|\n",
            "|{Sufi, Alim, Shaikh}|    [Hindi, History]|  HYD|     M| 1000|\n",
            "|    {Saif, , Shaikh}|[English, Science...|  HYD|     M| 1000|\n",
            "+--------------------+--------------------+-----+------+-----+\n",
            "\n",
            "root\n",
            " |-- Full_Name: struct (nullable = true)\n",
            " |    |-- fname: string (nullable = true)\n",
            " |    |-- mname: string (nullable = true)\n",
            " |    |-- lname: string (nullable = true)\n",
            " |-- Subject: array (nullable = true)\n",
            " |    |-- element: string (containsNull = true)\n",
            " |-- State: string (nullable = true)\n",
            " |-- Gender: string (nullable = true)\n",
            " |-- Sal: integer (nullable = true)\n",
            "\n"
          ]
        }
      ]
    },
    {
      "cell_type": "code",
      "source": [
        "df.withColumn('Gender', when(col('Gender')=='M', 'Male')\\\n",
        "                    .when(col('Gender')=='F', 'Female')\\\n",
        "                    .otherwise('Unknown')\n",
        "                    ).show()"
      ],
      "metadata": {
        "colab": {
          "base_uri": "https://localhost:8080/"
        },
        "id": "ETvepmBp4btl",
        "outputId": "2ade6b0b-9cba-471f-e80f-b6c700571a57"
      },
      "execution_count": null,
      "outputs": [
        {
          "output_type": "stream",
          "name": "stdout",
          "text": [
            "+--------------------+--------------------+-----+------+-----+\n",
            "|           Full_Name|             Subject|State|Gender|  Sal|\n",
            "+--------------------+--------------------+-----+------+-----+\n",
            "|    {Saif, , Shaikh}|[English, Science...|  HYD|  Male| 1000|\n",
            "|     {Ram, Sachin, }|[Spark, English, ...|  BLR|Female|10000|\n",
            "|  {Aniket, , Mishra}|   [Civics, History]|  HYD|Female| 2000|\n",
            "|{Mitali, Sahil, K...|   [Civics, History]|  BLR|  Male| 5000|\n",
            "|{Zaid, Riyaz, Sha...|   [Civics, History]|  BLR|  Male| 4000|\n",
            "|{Sufi, Alim, Shaikh}|    [Hindi, History]|  HYD|  Male| 1000|\n",
            "|    {Saif, , Shaikh}|[English, Science...|  HYD|  Male| 1000|\n",
            "+--------------------+--------------------+-----+------+-----+\n",
            "\n"
          ]
        }
      ]
    },
    {
      "cell_type": "code",
      "source": [
        "n_df = df.select(df.Full_Name.fname.alias('FName'), \\\n",
        "          df.Full_Name.mname.alias('MName'), \\\n",
        "          df.Full_Name.lname.alias('LName'), \\\n",
        "          df.State.alias('State'), \\\n",
        "          df.Gender.alias('Gender'), \\\n",
        "          df.Sal.alias('Salary'), \\\n",
        "          explode('Subject').alias('Subject')\n",
        "          )"
      ],
      "metadata": {
        "id": "t-WUPtRugxJO"
      },
      "execution_count": null,
      "outputs": []
    },
    {
      "cell_type": "code",
      "source": [
        "n_df.sort('FName').show()"
      ],
      "metadata": {
        "colab": {
          "base_uri": "https://localhost:8080/"
        },
        "id": "MJ3x6jhDin6z",
        "outputId": "a43fddbd-60e6-4b9c-e1b5-a023db3a796b"
      },
      "execution_count": null,
      "outputs": [
        {
          "output_type": "stream",
          "name": "stdout",
          "text": [
            "+------+------+------+-----+------+------+-------+\n",
            "| FName| MName| LName|State|Gender|Salary|Subject|\n",
            "+------+------+------+-----+------+------+-------+\n",
            "|Aniket|      |Mishra|  HYD|     F|  2000| Civics|\n",
            "|Aniket|      |Mishra|  HYD|     F|  2000|History|\n",
            "|Mitali| Sahil|Kashiv|  BLR|     M|  5000| Civics|\n",
            "|Mitali| Sahil|Kashiv|  BLR|     M|  5000|History|\n",
            "|   Ram|Sachin|      |  BLR|     F| 10000|  Spark|\n",
            "|   Ram|Sachin|      |  BLR|     F| 10000|English|\n",
            "|   Ram|Sachin|      |  BLR|     F| 10000|  Maths|\n",
            "|  Saif|      |Shaikh|  HYD|     M|  1000|  Maths|\n",
            "|  Saif|      |Shaikh|  HYD|     M|  1000|Science|\n",
            "|  Saif|      |Shaikh|  HYD|     M|  1000|English|\n",
            "|  Saif|      |Shaikh|  HYD|     M|  1000|Science|\n",
            "|  Saif|      |Shaikh|  HYD|     M|  1000|English|\n",
            "|  Saif|      |Shaikh|  HYD|     M|  1000|  Maths|\n",
            "|  Sufi|  Alim|Shaikh|  HYD|     M|  1000|History|\n",
            "|  Sufi|  Alim|Shaikh|  HYD|     M|  1000|  Hindi|\n",
            "|  Zaid| Riyaz|Shaikh|  BLR|     M|  4000| Civics|\n",
            "|  Zaid| Riyaz|Shaikh|  BLR|     M|  4000|History|\n",
            "+------+------+------+-----+------+------+-------+\n",
            "\n"
          ]
        }
      ]
    },
    {
      "cell_type": "markdown",
      "source": [
        "To Pandas Df"
      ],
      "metadata": {
        "id": "EckJPF8A_7aK"
      }
    },
    {
      "cell_type": "code",
      "source": [
        "pdDf = n_df.toPandas().replace('', 'A')\n",
        "pdDf"
      ],
      "metadata": {
        "colab": {
          "base_uri": "https://localhost:8080/",
          "height": 582
        },
        "id": "qTp2fa7e9SiQ",
        "outputId": "7ef7f5f0-6f20-4f25-9881-69fbd67eeecd"
      },
      "execution_count": null,
      "outputs": [
        {
          "output_type": "execute_result",
          "data": {
            "text/plain": [
              "     FName   MName   LName State Gender  Salary  Subject\n",
              "0     Saif       A  Shaikh   HYD      M    1000  English\n",
              "1     Saif       A  Shaikh   HYD      M    1000  Science\n",
              "2     Saif       A  Shaikh   HYD      M    1000    Maths\n",
              "3      Ram  Sachin       A   BLR      F   10000    Spark\n",
              "4      Ram  Sachin       A   BLR      F   10000  English\n",
              "5      Ram  Sachin       A   BLR      F   10000    Maths\n",
              "6   Aniket       A  Mishra   HYD      F    2000   Civics\n",
              "7   Aniket       A  Mishra   HYD      F    2000  History\n",
              "8   Mitali   Sahil  Kashiv   BLR      M    5000   Civics\n",
              "9   Mitali   Sahil  Kashiv   BLR      M    5000  History\n",
              "10    Zaid   Riyaz  Shaikh   BLR      M    4000   Civics\n",
              "11    Zaid   Riyaz  Shaikh   BLR      M    4000  History\n",
              "12    Sufi    Alim  Shaikh   HYD      M    1000    Hindi\n",
              "13    Sufi    Alim  Shaikh   HYD      M    1000  History\n",
              "14    Saif       A  Shaikh   HYD      M    1000  English\n",
              "15    Saif       A  Shaikh   HYD      M    1000  Science\n",
              "16    Saif       A  Shaikh   HYD      M    1000    Maths"
            ],
            "text/html": [
              "\n",
              "  <div id=\"df-ab13c674-c092-4674-81d6-14f1243952a6\">\n",
              "    <div class=\"colab-df-container\">\n",
              "      <div>\n",
              "<style scoped>\n",
              "    .dataframe tbody tr th:only-of-type {\n",
              "        vertical-align: middle;\n",
              "    }\n",
              "\n",
              "    .dataframe tbody tr th {\n",
              "        vertical-align: top;\n",
              "    }\n",
              "\n",
              "    .dataframe thead th {\n",
              "        text-align: right;\n",
              "    }\n",
              "</style>\n",
              "<table border=\"1\" class=\"dataframe\">\n",
              "  <thead>\n",
              "    <tr style=\"text-align: right;\">\n",
              "      <th></th>\n",
              "      <th>FName</th>\n",
              "      <th>MName</th>\n",
              "      <th>LName</th>\n",
              "      <th>State</th>\n",
              "      <th>Gender</th>\n",
              "      <th>Salary</th>\n",
              "      <th>Subject</th>\n",
              "    </tr>\n",
              "  </thead>\n",
              "  <tbody>\n",
              "    <tr>\n",
              "      <th>0</th>\n",
              "      <td>Saif</td>\n",
              "      <td>A</td>\n",
              "      <td>Shaikh</td>\n",
              "      <td>HYD</td>\n",
              "      <td>M</td>\n",
              "      <td>1000</td>\n",
              "      <td>English</td>\n",
              "    </tr>\n",
              "    <tr>\n",
              "      <th>1</th>\n",
              "      <td>Saif</td>\n",
              "      <td>A</td>\n",
              "      <td>Shaikh</td>\n",
              "      <td>HYD</td>\n",
              "      <td>M</td>\n",
              "      <td>1000</td>\n",
              "      <td>Science</td>\n",
              "    </tr>\n",
              "    <tr>\n",
              "      <th>2</th>\n",
              "      <td>Saif</td>\n",
              "      <td>A</td>\n",
              "      <td>Shaikh</td>\n",
              "      <td>HYD</td>\n",
              "      <td>M</td>\n",
              "      <td>1000</td>\n",
              "      <td>Maths</td>\n",
              "    </tr>\n",
              "    <tr>\n",
              "      <th>3</th>\n",
              "      <td>Ram</td>\n",
              "      <td>Sachin</td>\n",
              "      <td>A</td>\n",
              "      <td>BLR</td>\n",
              "      <td>F</td>\n",
              "      <td>10000</td>\n",
              "      <td>Spark</td>\n",
              "    </tr>\n",
              "    <tr>\n",
              "      <th>4</th>\n",
              "      <td>Ram</td>\n",
              "      <td>Sachin</td>\n",
              "      <td>A</td>\n",
              "      <td>BLR</td>\n",
              "      <td>F</td>\n",
              "      <td>10000</td>\n",
              "      <td>English</td>\n",
              "    </tr>\n",
              "    <tr>\n",
              "      <th>5</th>\n",
              "      <td>Ram</td>\n",
              "      <td>Sachin</td>\n",
              "      <td>A</td>\n",
              "      <td>BLR</td>\n",
              "      <td>F</td>\n",
              "      <td>10000</td>\n",
              "      <td>Maths</td>\n",
              "    </tr>\n",
              "    <tr>\n",
              "      <th>6</th>\n",
              "      <td>Aniket</td>\n",
              "      <td>A</td>\n",
              "      <td>Mishra</td>\n",
              "      <td>HYD</td>\n",
              "      <td>F</td>\n",
              "      <td>2000</td>\n",
              "      <td>Civics</td>\n",
              "    </tr>\n",
              "    <tr>\n",
              "      <th>7</th>\n",
              "      <td>Aniket</td>\n",
              "      <td>A</td>\n",
              "      <td>Mishra</td>\n",
              "      <td>HYD</td>\n",
              "      <td>F</td>\n",
              "      <td>2000</td>\n",
              "      <td>History</td>\n",
              "    </tr>\n",
              "    <tr>\n",
              "      <th>8</th>\n",
              "      <td>Mitali</td>\n",
              "      <td>Sahil</td>\n",
              "      <td>Kashiv</td>\n",
              "      <td>BLR</td>\n",
              "      <td>M</td>\n",
              "      <td>5000</td>\n",
              "      <td>Civics</td>\n",
              "    </tr>\n",
              "    <tr>\n",
              "      <th>9</th>\n",
              "      <td>Mitali</td>\n",
              "      <td>Sahil</td>\n",
              "      <td>Kashiv</td>\n",
              "      <td>BLR</td>\n",
              "      <td>M</td>\n",
              "      <td>5000</td>\n",
              "      <td>History</td>\n",
              "    </tr>\n",
              "    <tr>\n",
              "      <th>10</th>\n",
              "      <td>Zaid</td>\n",
              "      <td>Riyaz</td>\n",
              "      <td>Shaikh</td>\n",
              "      <td>BLR</td>\n",
              "      <td>M</td>\n",
              "      <td>4000</td>\n",
              "      <td>Civics</td>\n",
              "    </tr>\n",
              "    <tr>\n",
              "      <th>11</th>\n",
              "      <td>Zaid</td>\n",
              "      <td>Riyaz</td>\n",
              "      <td>Shaikh</td>\n",
              "      <td>BLR</td>\n",
              "      <td>M</td>\n",
              "      <td>4000</td>\n",
              "      <td>History</td>\n",
              "    </tr>\n",
              "    <tr>\n",
              "      <th>12</th>\n",
              "      <td>Sufi</td>\n",
              "      <td>Alim</td>\n",
              "      <td>Shaikh</td>\n",
              "      <td>HYD</td>\n",
              "      <td>M</td>\n",
              "      <td>1000</td>\n",
              "      <td>Hindi</td>\n",
              "    </tr>\n",
              "    <tr>\n",
              "      <th>13</th>\n",
              "      <td>Sufi</td>\n",
              "      <td>Alim</td>\n",
              "      <td>Shaikh</td>\n",
              "      <td>HYD</td>\n",
              "      <td>M</td>\n",
              "      <td>1000</td>\n",
              "      <td>History</td>\n",
              "    </tr>\n",
              "    <tr>\n",
              "      <th>14</th>\n",
              "      <td>Saif</td>\n",
              "      <td>A</td>\n",
              "      <td>Shaikh</td>\n",
              "      <td>HYD</td>\n",
              "      <td>M</td>\n",
              "      <td>1000</td>\n",
              "      <td>English</td>\n",
              "    </tr>\n",
              "    <tr>\n",
              "      <th>15</th>\n",
              "      <td>Saif</td>\n",
              "      <td>A</td>\n",
              "      <td>Shaikh</td>\n",
              "      <td>HYD</td>\n",
              "      <td>M</td>\n",
              "      <td>1000</td>\n",
              "      <td>Science</td>\n",
              "    </tr>\n",
              "    <tr>\n",
              "      <th>16</th>\n",
              "      <td>Saif</td>\n",
              "      <td>A</td>\n",
              "      <td>Shaikh</td>\n",
              "      <td>HYD</td>\n",
              "      <td>M</td>\n",
              "      <td>1000</td>\n",
              "      <td>Maths</td>\n",
              "    </tr>\n",
              "  </tbody>\n",
              "</table>\n",
              "</div>\n",
              "      <button class=\"colab-df-convert\" onclick=\"convertToInteractive('df-ab13c674-c092-4674-81d6-14f1243952a6')\"\n",
              "              title=\"Convert this dataframe to an interactive table.\"\n",
              "              style=\"display:none;\">\n",
              "        \n",
              "  <svg xmlns=\"http://www.w3.org/2000/svg\" height=\"24px\"viewBox=\"0 0 24 24\"\n",
              "       width=\"24px\">\n",
              "    <path d=\"M0 0h24v24H0V0z\" fill=\"none\"/>\n",
              "    <path d=\"M18.56 5.44l.94 2.06.94-2.06 2.06-.94-2.06-.94-.94-2.06-.94 2.06-2.06.94zm-11 1L8.5 8.5l.94-2.06 2.06-.94-2.06-.94L8.5 2.5l-.94 2.06-2.06.94zm10 10l.94 2.06.94-2.06 2.06-.94-2.06-.94-.94-2.06-.94 2.06-2.06.94z\"/><path d=\"M17.41 7.96l-1.37-1.37c-.4-.4-.92-.59-1.43-.59-.52 0-1.04.2-1.43.59L10.3 9.45l-7.72 7.72c-.78.78-.78 2.05 0 2.83L4 21.41c.39.39.9.59 1.41.59.51 0 1.02-.2 1.41-.59l7.78-7.78 2.81-2.81c.8-.78.8-2.07 0-2.86zM5.41 20L4 18.59l7.72-7.72 1.47 1.35L5.41 20z\"/>\n",
              "  </svg>\n",
              "      </button>\n",
              "      \n",
              "  <style>\n",
              "    .colab-df-container {\n",
              "      display:flex;\n",
              "      flex-wrap:wrap;\n",
              "      gap: 12px;\n",
              "    }\n",
              "\n",
              "    .colab-df-convert {\n",
              "      background-color: #E8F0FE;\n",
              "      border: none;\n",
              "      border-radius: 50%;\n",
              "      cursor: pointer;\n",
              "      display: none;\n",
              "      fill: #1967D2;\n",
              "      height: 32px;\n",
              "      padding: 0 0 0 0;\n",
              "      width: 32px;\n",
              "    }\n",
              "\n",
              "    .colab-df-convert:hover {\n",
              "      background-color: #E2EBFA;\n",
              "      box-shadow: 0px 1px 2px rgba(60, 64, 67, 0.3), 0px 1px 3px 1px rgba(60, 64, 67, 0.15);\n",
              "      fill: #174EA6;\n",
              "    }\n",
              "\n",
              "    [theme=dark] .colab-df-convert {\n",
              "      background-color: #3B4455;\n",
              "      fill: #D2E3FC;\n",
              "    }\n",
              "\n",
              "    [theme=dark] .colab-df-convert:hover {\n",
              "      background-color: #434B5C;\n",
              "      box-shadow: 0px 1px 3px 1px rgba(0, 0, 0, 0.15);\n",
              "      filter: drop-shadow(0px 1px 2px rgba(0, 0, 0, 0.3));\n",
              "      fill: #FFFFFF;\n",
              "    }\n",
              "  </style>\n",
              "\n",
              "      <script>\n",
              "        const buttonEl =\n",
              "          document.querySelector('#df-ab13c674-c092-4674-81d6-14f1243952a6 button.colab-df-convert');\n",
              "        buttonEl.style.display =\n",
              "          google.colab.kernel.accessAllowed ? 'block' : 'none';\n",
              "\n",
              "        async function convertToInteractive(key) {\n",
              "          const element = document.querySelector('#df-ab13c674-c092-4674-81d6-14f1243952a6');\n",
              "          const dataTable =\n",
              "            await google.colab.kernel.invokeFunction('convertToInteractive',\n",
              "                                                     [key], {});\n",
              "          if (!dataTable) return;\n",
              "\n",
              "          const docLinkHtml = 'Like what you see? Visit the ' +\n",
              "            '<a target=\"_blank\" href=https://colab.research.google.com/notebooks/data_table.ipynb>data table notebook</a>'\n",
              "            + ' to learn more about interactive tables.';\n",
              "          element.innerHTML = '';\n",
              "          dataTable['output_type'] = 'display_data';\n",
              "          await google.colab.output.renderOutput(dataTable, element);\n",
              "          const docLink = document.createElement('div');\n",
              "          docLink.innerHTML = docLinkHtml;\n",
              "          element.appendChild(docLink);\n",
              "        }\n",
              "      </script>\n",
              "    </div>\n",
              "  </div>\n",
              "  "
            ]
          },
          "metadata": {},
          "execution_count": 47
        }
      ]
    },
    {
      "cell_type": "code",
      "source": [
        "new_df = n_df.withColumn('MName', when(col('MName')=='', 'A').otherwise(col('MName')))"
      ],
      "metadata": {
        "id": "SZ76tDGa9Zvw"
      },
      "execution_count": null,
      "outputs": []
    },
    {
      "cell_type": "code",
      "source": [
        "new_df.select('MName', length('MName').alias('Len_MName')).distinct()\\\n",
        ".sort('Len_MName', ascending=False).show()"
      ],
      "metadata": {
        "colab": {
          "base_uri": "https://localhost:8080/"
        },
        "id": "o6nhrLJQjA0D",
        "outputId": "8198d7bd-66c1-4cc6-c2f7-0d672a688077"
      },
      "execution_count": null,
      "outputs": [
        {
          "output_type": "stream",
          "name": "stdout",
          "text": [
            "+------+---------+\n",
            "| MName|Len_MName|\n",
            "+------+---------+\n",
            "|Sachin|        6|\n",
            "| Sahil|        5|\n",
            "| Riyaz|        5|\n",
            "|  Alim|        4|\n",
            "|     A|        1|\n",
            "+------+---------+\n",
            "\n"
          ]
        }
      ]
    },
    {
      "cell_type": "code",
      "source": [
        "new_df.groupBy('MName').sum().show()"
      ],
      "metadata": {
        "colab": {
          "base_uri": "https://localhost:8080/"
        },
        "id": "nPQ21kI59X84",
        "outputId": "39aadb2e-5938-4d16-fbf6-2f388285d750"
      },
      "execution_count": null,
      "outputs": [
        {
          "output_type": "stream",
          "name": "stdout",
          "text": [
            "+------+-----------+\n",
            "| MName|sum(Salary)|\n",
            "+------+-----------+\n",
            "|     A|      10000|\n",
            "|Sachin|      30000|\n",
            "| Sahil|      10000|\n",
            "| Riyaz|       8000|\n",
            "|  Alim|       2000|\n",
            "+------+-----------+\n",
            "\n"
          ]
        }
      ]
    },
    {
      "cell_type": "code",
      "source": [
        "import numpy as np\n",
        "new_df.withColumn('MName', when(col('MName')=='', np.NaN)\\\n",
        "              .otherwise(col('MName'))\\\n",
        "              .alias('New_MName')\n",
        ").show()"
      ],
      "metadata": {
        "colab": {
          "base_uri": "https://localhost:8080/"
        },
        "id": "aTnTRqE4jkfI",
        "outputId": "1d1a0616-41cf-40e3-ca02-79e009526206"
      },
      "execution_count": null,
      "outputs": [
        {
          "output_type": "stream",
          "name": "stdout",
          "text": [
            "+------+------+------+-----+------+------+-------+\n",
            "| FName| MName| LName|State|Gender|Salary|Subject|\n",
            "+------+------+------+-----+------+------+-------+\n",
            "|  Saif|   NaN|Shaikh|  HYD|     M|  1000|English|\n",
            "|  Saif|   NaN|Shaikh|  HYD|     M|  1000|Science|\n",
            "|  Saif|   NaN|Shaikh|  HYD|     M|  1000|  Maths|\n",
            "|   Ram|Sachin|      |  BLR|     F| 10000|  Spark|\n",
            "|   Ram|Sachin|      |  BLR|     F| 10000|English|\n",
            "|   Ram|Sachin|      |  BLR|     F| 10000|  Maths|\n",
            "|Aniket|   NaN|Mishra|  HYD|     F|  2000| Civics|\n",
            "|Aniket|   NaN|Mishra|  HYD|     F|  2000|History|\n",
            "|Mitali| Sahil|Kashiv|  BLR|     M|  5000| Civics|\n",
            "|Mitali| Sahil|Kashiv|  BLR|     M|  5000|History|\n",
            "|  Zaid| Riyaz|Shaikh|  BLR|     M|  4000| Civics|\n",
            "|  Zaid| Riyaz|Shaikh|  BLR|     M|  4000|History|\n",
            "|  Sufi|  Alim|Shaikh|  HYD|     M|  1000|  Hindi|\n",
            "|  Sufi|  Alim|Shaikh|  HYD|     M|  1000|History|\n",
            "|  Saif|   NaN|Shaikh|  HYD|     M|  1000|English|\n",
            "|  Saif|   NaN|Shaikh|  HYD|     M|  1000|Science|\n",
            "|  Saif|   NaN|Shaikh|  HYD|     M|  1000|  Maths|\n",
            "+------+------+------+-----+------+------+-------+\n",
            "\n"
          ]
        }
      ]
    },
    {
      "cell_type": "code",
      "source": [
        "new_df.distinct().show()"
      ],
      "metadata": {
        "colab": {
          "base_uri": "https://localhost:8080/"
        },
        "id": "g6zv2hDfkxAN",
        "outputId": "988de4e8-cde3-47ad-b95e-9166fd1126e0"
      },
      "execution_count": null,
      "outputs": [
        {
          "output_type": "stream",
          "name": "stdout",
          "text": [
            "+------+------+------+-----+------+------+-------+\n",
            "| FName| MName| LName|State|Gender|Salary|Subject|\n",
            "+------+------+------+-----+------+------+-------+\n",
            "|Aniket|      |Mishra|  HYD|     F|  2000| Civics|\n",
            "|   Ram|Sachin|      |  BLR|     F| 10000|  Spark|\n",
            "|  Saif|      |Shaikh|  HYD|     M|  1000|English|\n",
            "|  Saif|      |Shaikh|  HYD|     M|  1000|  Maths|\n",
            "|   Ram|Sachin|      |  BLR|     F| 10000|  Maths|\n",
            "|   Ram|Sachin|      |  BLR|     F| 10000|English|\n",
            "|Aniket|      |Mishra|  HYD|     F|  2000|History|\n",
            "|  Saif|      |Shaikh|  HYD|     M|  1000|Science|\n",
            "|  Zaid| Riyaz|Shaikh|  BLR|     M|  4000| Civics|\n",
            "|  Zaid| Riyaz|Shaikh|  BLR|     M|  4000|History|\n",
            "|  Sufi|  Alim|Shaikh|  HYD|     M|  1000|  Hindi|\n",
            "|Mitali| Sahil|Kashiv|  BLR|     M|  5000| Civics|\n",
            "|Mitali| Sahil|Kashiv|  BLR|     M|  5000|History|\n",
            "|  Sufi|  Alim|Shaikh|  HYD|     M|  1000|History|\n",
            "+------+------+------+-----+------+------+-------+\n",
            "\n"
          ]
        }
      ]
    },
    {
      "cell_type": "code",
      "source": [
        "a = df.select(explode('Subject').alias('Subject'))\n",
        "unique = a.dropDuplicates()\n",
        "unique.show()\n",
        "print('Unique Counts:', unique.count())"
      ],
      "metadata": {
        "colab": {
          "base_uri": "https://localhost:8080/"
        },
        "id": "4oNwnrQB571V",
        "outputId": "292ee67c-6461-439f-f23a-4f7b4f62049b"
      },
      "execution_count": null,
      "outputs": [
        {
          "output_type": "stream",
          "name": "stdout",
          "text": [
            "+-------+\n",
            "|Subject|\n",
            "+-------+\n",
            "|Science|\n",
            "|English|\n",
            "|History|\n",
            "| Civics|\n",
            "|  Maths|\n",
            "|  Spark|\n",
            "|  Hindi|\n",
            "+-------+\n",
            "\n",
            "Unique Counts: 7\n"
          ]
        }
      ]
    },
    {
      "cell_type": "code",
      "source": [
        "df.filter(col('Full_Name.'))"
      ],
      "metadata": {
        "id": "zRFtWjrkefwJ"
      },
      "execution_count": null,
      "outputs": []
    },
    {
      "cell_type": "markdown",
      "source": [
        "# Pandas"
      ],
      "metadata": {
        "id": "zpu9eJXHu8HH"
      }
    },
    {
      "cell_type": "code",
      "execution_count": null,
      "metadata": {
        "id": "exV6DNy46mdk"
      },
      "outputs": [],
      "source": [
        "# Required lib and modules\n",
        "import numpy as np\n",
        "import pandas as pd"
      ]
    },
    {
      "cell_type": "code",
      "execution_count": null,
      "metadata": {
        "colab": {
          "base_uri": "https://localhost:8080/",
          "height": 357
        },
        "id": "MV7hvdDa7K2t",
        "outputId": "6d8cf745-ce67-424b-86d2-027fcf27a517"
      },
      "outputs": [
        {
          "output_type": "execute_result",
          "data": {
            "text/plain": [
              "    stop_date stop_time  county_name driver_gender  driver_age_raw  \\\n",
              "0  2005-01-02     01:55          NaN             M          1985.0   \n",
              "1  2005-01-18     08:15          NaN             M          1965.0   \n",
              "2  2005-01-23     23:15          NaN             M          1972.0   \n",
              "3  2005-02-20     17:15          NaN             M          1986.0   \n",
              "4  2005-03-14     10:00          NaN             F          1984.0   \n",
              "\n",
              "   driver_age driver_race     violation_raw violation  search_conducted  \\\n",
              "0        20.0       White          Speeding  Speeding             False   \n",
              "1        40.0       White          Speeding  Speeding             False   \n",
              "2        33.0       White          Speeding  Speeding             False   \n",
              "3        19.0       White  Call for Service     Other             False   \n",
              "4        21.0       White          Speeding  Speeding             False   \n",
              "\n",
              "  search_type   stop_outcome is_arrested stop_duration  drugs_related_stop  \n",
              "0         NaN       Citation       False      0-15 Min               False  \n",
              "1         NaN       Citation       False      0-15 Min               False  \n",
              "2         NaN       Citation       False      0-15 Min               False  \n",
              "3         NaN  Arrest Driver        True     16-30 Min               False  \n",
              "4         NaN       Citation       False      0-15 Min               False  "
            ],
            "text/html": [
              "\n",
              "  <div id=\"df-cc978b32-16c8-4e00-bf0c-ea75126218b2\">\n",
              "    <div class=\"colab-df-container\">\n",
              "      <div>\n",
              "<style scoped>\n",
              "    .dataframe tbody tr th:only-of-type {\n",
              "        vertical-align: middle;\n",
              "    }\n",
              "\n",
              "    .dataframe tbody tr th {\n",
              "        vertical-align: top;\n",
              "    }\n",
              "\n",
              "    .dataframe thead th {\n",
              "        text-align: right;\n",
              "    }\n",
              "</style>\n",
              "<table border=\"1\" class=\"dataframe\">\n",
              "  <thead>\n",
              "    <tr style=\"text-align: right;\">\n",
              "      <th></th>\n",
              "      <th>stop_date</th>\n",
              "      <th>stop_time</th>\n",
              "      <th>county_name</th>\n",
              "      <th>driver_gender</th>\n",
              "      <th>driver_age_raw</th>\n",
              "      <th>driver_age</th>\n",
              "      <th>driver_race</th>\n",
              "      <th>violation_raw</th>\n",
              "      <th>violation</th>\n",
              "      <th>search_conducted</th>\n",
              "      <th>search_type</th>\n",
              "      <th>stop_outcome</th>\n",
              "      <th>is_arrested</th>\n",
              "      <th>stop_duration</th>\n",
              "      <th>drugs_related_stop</th>\n",
              "    </tr>\n",
              "  </thead>\n",
              "  <tbody>\n",
              "    <tr>\n",
              "      <th>0</th>\n",
              "      <td>2005-01-02</td>\n",
              "      <td>01:55</td>\n",
              "      <td>NaN</td>\n",
              "      <td>M</td>\n",
              "      <td>1985.0</td>\n",
              "      <td>20.0</td>\n",
              "      <td>White</td>\n",
              "      <td>Speeding</td>\n",
              "      <td>Speeding</td>\n",
              "      <td>False</td>\n",
              "      <td>NaN</td>\n",
              "      <td>Citation</td>\n",
              "      <td>False</td>\n",
              "      <td>0-15 Min</td>\n",
              "      <td>False</td>\n",
              "    </tr>\n",
              "    <tr>\n",
              "      <th>1</th>\n",
              "      <td>2005-01-18</td>\n",
              "      <td>08:15</td>\n",
              "      <td>NaN</td>\n",
              "      <td>M</td>\n",
              "      <td>1965.0</td>\n",
              "      <td>40.0</td>\n",
              "      <td>White</td>\n",
              "      <td>Speeding</td>\n",
              "      <td>Speeding</td>\n",
              "      <td>False</td>\n",
              "      <td>NaN</td>\n",
              "      <td>Citation</td>\n",
              "      <td>False</td>\n",
              "      <td>0-15 Min</td>\n",
              "      <td>False</td>\n",
              "    </tr>\n",
              "    <tr>\n",
              "      <th>2</th>\n",
              "      <td>2005-01-23</td>\n",
              "      <td>23:15</td>\n",
              "      <td>NaN</td>\n",
              "      <td>M</td>\n",
              "      <td>1972.0</td>\n",
              "      <td>33.0</td>\n",
              "      <td>White</td>\n",
              "      <td>Speeding</td>\n",
              "      <td>Speeding</td>\n",
              "      <td>False</td>\n",
              "      <td>NaN</td>\n",
              "      <td>Citation</td>\n",
              "      <td>False</td>\n",
              "      <td>0-15 Min</td>\n",
              "      <td>False</td>\n",
              "    </tr>\n",
              "    <tr>\n",
              "      <th>3</th>\n",
              "      <td>2005-02-20</td>\n",
              "      <td>17:15</td>\n",
              "      <td>NaN</td>\n",
              "      <td>M</td>\n",
              "      <td>1986.0</td>\n",
              "      <td>19.0</td>\n",
              "      <td>White</td>\n",
              "      <td>Call for Service</td>\n",
              "      <td>Other</td>\n",
              "      <td>False</td>\n",
              "      <td>NaN</td>\n",
              "      <td>Arrest Driver</td>\n",
              "      <td>True</td>\n",
              "      <td>16-30 Min</td>\n",
              "      <td>False</td>\n",
              "    </tr>\n",
              "    <tr>\n",
              "      <th>4</th>\n",
              "      <td>2005-03-14</td>\n",
              "      <td>10:00</td>\n",
              "      <td>NaN</td>\n",
              "      <td>F</td>\n",
              "      <td>1984.0</td>\n",
              "      <td>21.0</td>\n",
              "      <td>White</td>\n",
              "      <td>Speeding</td>\n",
              "      <td>Speeding</td>\n",
              "      <td>False</td>\n",
              "      <td>NaN</td>\n",
              "      <td>Citation</td>\n",
              "      <td>False</td>\n",
              "      <td>0-15 Min</td>\n",
              "      <td>False</td>\n",
              "    </tr>\n",
              "  </tbody>\n",
              "</table>\n",
              "</div>\n",
              "      <button class=\"colab-df-convert\" onclick=\"convertToInteractive('df-cc978b32-16c8-4e00-bf0c-ea75126218b2')\"\n",
              "              title=\"Convert this dataframe to an interactive table.\"\n",
              "              style=\"display:none;\">\n",
              "        \n",
              "  <svg xmlns=\"http://www.w3.org/2000/svg\" height=\"24px\"viewBox=\"0 0 24 24\"\n",
              "       width=\"24px\">\n",
              "    <path d=\"M0 0h24v24H0V0z\" fill=\"none\"/>\n",
              "    <path d=\"M18.56 5.44l.94 2.06.94-2.06 2.06-.94-2.06-.94-.94-2.06-.94 2.06-2.06.94zm-11 1L8.5 8.5l.94-2.06 2.06-.94-2.06-.94L8.5 2.5l-.94 2.06-2.06.94zm10 10l.94 2.06.94-2.06 2.06-.94-2.06-.94-.94-2.06-.94 2.06-2.06.94z\"/><path d=\"M17.41 7.96l-1.37-1.37c-.4-.4-.92-.59-1.43-.59-.52 0-1.04.2-1.43.59L10.3 9.45l-7.72 7.72c-.78.78-.78 2.05 0 2.83L4 21.41c.39.39.9.59 1.41.59.51 0 1.02-.2 1.41-.59l7.78-7.78 2.81-2.81c.8-.78.8-2.07 0-2.86zM5.41 20L4 18.59l7.72-7.72 1.47 1.35L5.41 20z\"/>\n",
              "  </svg>\n",
              "      </button>\n",
              "      \n",
              "  <style>\n",
              "    .colab-df-container {\n",
              "      display:flex;\n",
              "      flex-wrap:wrap;\n",
              "      gap: 12px;\n",
              "    }\n",
              "\n",
              "    .colab-df-convert {\n",
              "      background-color: #E8F0FE;\n",
              "      border: none;\n",
              "      border-radius: 50%;\n",
              "      cursor: pointer;\n",
              "      display: none;\n",
              "      fill: #1967D2;\n",
              "      height: 32px;\n",
              "      padding: 0 0 0 0;\n",
              "      width: 32px;\n",
              "    }\n",
              "\n",
              "    .colab-df-convert:hover {\n",
              "      background-color: #E2EBFA;\n",
              "      box-shadow: 0px 1px 2px rgba(60, 64, 67, 0.3), 0px 1px 3px 1px rgba(60, 64, 67, 0.15);\n",
              "      fill: #174EA6;\n",
              "    }\n",
              "\n",
              "    [theme=dark] .colab-df-convert {\n",
              "      background-color: #3B4455;\n",
              "      fill: #D2E3FC;\n",
              "    }\n",
              "\n",
              "    [theme=dark] .colab-df-convert:hover {\n",
              "      background-color: #434B5C;\n",
              "      box-shadow: 0px 1px 3px 1px rgba(0, 0, 0, 0.15);\n",
              "      filter: drop-shadow(0px 1px 2px rgba(0, 0, 0, 0.3));\n",
              "      fill: #FFFFFF;\n",
              "    }\n",
              "  </style>\n",
              "\n",
              "      <script>\n",
              "        const buttonEl =\n",
              "          document.querySelector('#df-cc978b32-16c8-4e00-bf0c-ea75126218b2 button.colab-df-convert');\n",
              "        buttonEl.style.display =\n",
              "          google.colab.kernel.accessAllowed ? 'block' : 'none';\n",
              "\n",
              "        async function convertToInteractive(key) {\n",
              "          const element = document.querySelector('#df-cc978b32-16c8-4e00-bf0c-ea75126218b2');\n",
              "          const dataTable =\n",
              "            await google.colab.kernel.invokeFunction('convertToInteractive',\n",
              "                                                     [key], {});\n",
              "          if (!dataTable) return;\n",
              "\n",
              "          const docLinkHtml = 'Like what you see? Visit the ' +\n",
              "            '<a target=\"_blank\" href=https://colab.research.google.com/notebooks/data_table.ipynb>data table notebook</a>'\n",
              "            + ' to learn more about interactive tables.';\n",
              "          element.innerHTML = '';\n",
              "          dataTable['output_type'] = 'display_data';\n",
              "          await google.colab.output.renderOutput(dataTable, element);\n",
              "          const docLink = document.createElement('div');\n",
              "          docLink.innerHTML = docLinkHtml;\n",
              "          element.appendChild(docLink);\n",
              "        }\n",
              "      </script>\n",
              "    </div>\n",
              "  </div>\n",
              "  "
            ]
          },
          "metadata": {},
          "execution_count": 9
        }
      ],
      "source": [
        "# Reading data\n",
        "\n",
        "path = \"/content/drive/MyDrive/Colab Notebooks/police_project.csv\"\n",
        "df = pd.read_csv(path)\n",
        "\n",
        "# Copying the data \n",
        "df_copy = df.copy(deep=True)\n",
        "\n",
        "# displaying the data\n",
        "df.head()"
      ]
    },
    {
      "cell_type": "code",
      "execution_count": null,
      "metadata": {
        "colab": {
          "base_uri": "https://localhost:8080/"
        },
        "id": "T6INoR3l8u-R",
        "outputId": "8c00e165-f321-4a2f-debf-8825a4bffa32"
      },
      "outputs": [
        {
          "output_type": "stream",
          "name": "stdout",
          "text": [
            "<class 'pandas.core.frame.DataFrame'>\n",
            "RangeIndex: 91741 entries, 0 to 91740\n",
            "Data columns (total 15 columns):\n",
            " #   Column              Non-Null Count  Dtype  \n",
            "---  ------              --------------  -----  \n",
            " 0   stop_date           91741 non-null  object \n",
            " 1   stop_time           91741 non-null  object \n",
            " 2   county_name         0 non-null      float64\n",
            " 3   driver_gender       86406 non-null  object \n",
            " 4   driver_age_raw      86414 non-null  float64\n",
            " 5   driver_age          86120 non-null  float64\n",
            " 6   driver_race         86408 non-null  object \n",
            " 7   violation_raw       86408 non-null  object \n",
            " 8   violation           86408 non-null  object \n",
            " 9   search_conducted    91741 non-null  bool   \n",
            " 10  search_type         3196 non-null   object \n",
            " 11  stop_outcome        86408 non-null  object \n",
            " 12  is_arrested         86408 non-null  object \n",
            " 13  stop_duration       86408 non-null  object \n",
            " 14  drugs_related_stop  91741 non-null  bool   \n",
            "dtypes: bool(2), float64(3), object(10)\n",
            "memory usage: 9.3+ MB\n"
          ]
        }
      ],
      "source": [
        "df.info()"
      ]
    },
    {
      "cell_type": "code",
      "execution_count": null,
      "metadata": {
        "colab": {
          "base_uri": "https://localhost:8080/",
          "height": 300
        },
        "id": "_Ft6PoQD97Z-",
        "outputId": "79bd570e-e0ee-4bf4-c223-e3635cb7cbfd"
      },
      "outputs": [
        {
          "output_type": "execute_result",
          "data": {
            "text/plain": [
              "       county_name  driver_age_raw    driver_age\n",
              "count          0.0    86414.000000  86120.000000\n",
              "mean           NaN     1970.491228     34.011333\n",
              "std            NaN      110.914909     12.738564\n",
              "min            NaN        0.000000     15.000000\n",
              "25%            NaN     1967.000000     23.000000\n",
              "50%            NaN     1980.000000     31.000000\n",
              "75%            NaN     1987.000000     43.000000\n",
              "max            NaN     8801.000000     99.000000"
            ],
            "text/html": [
              "\n",
              "  <div id=\"df-b2cd8cbf-d809-4c96-a4d3-00ef621275c7\">\n",
              "    <div class=\"colab-df-container\">\n",
              "      <div>\n",
              "<style scoped>\n",
              "    .dataframe tbody tr th:only-of-type {\n",
              "        vertical-align: middle;\n",
              "    }\n",
              "\n",
              "    .dataframe tbody tr th {\n",
              "        vertical-align: top;\n",
              "    }\n",
              "\n",
              "    .dataframe thead th {\n",
              "        text-align: right;\n",
              "    }\n",
              "</style>\n",
              "<table border=\"1\" class=\"dataframe\">\n",
              "  <thead>\n",
              "    <tr style=\"text-align: right;\">\n",
              "      <th></th>\n",
              "      <th>county_name</th>\n",
              "      <th>driver_age_raw</th>\n",
              "      <th>driver_age</th>\n",
              "    </tr>\n",
              "  </thead>\n",
              "  <tbody>\n",
              "    <tr>\n",
              "      <th>count</th>\n",
              "      <td>0.0</td>\n",
              "      <td>86414.000000</td>\n",
              "      <td>86120.000000</td>\n",
              "    </tr>\n",
              "    <tr>\n",
              "      <th>mean</th>\n",
              "      <td>NaN</td>\n",
              "      <td>1970.491228</td>\n",
              "      <td>34.011333</td>\n",
              "    </tr>\n",
              "    <tr>\n",
              "      <th>std</th>\n",
              "      <td>NaN</td>\n",
              "      <td>110.914909</td>\n",
              "      <td>12.738564</td>\n",
              "    </tr>\n",
              "    <tr>\n",
              "      <th>min</th>\n",
              "      <td>NaN</td>\n",
              "      <td>0.000000</td>\n",
              "      <td>15.000000</td>\n",
              "    </tr>\n",
              "    <tr>\n",
              "      <th>25%</th>\n",
              "      <td>NaN</td>\n",
              "      <td>1967.000000</td>\n",
              "      <td>23.000000</td>\n",
              "    </tr>\n",
              "    <tr>\n",
              "      <th>50%</th>\n",
              "      <td>NaN</td>\n",
              "      <td>1980.000000</td>\n",
              "      <td>31.000000</td>\n",
              "    </tr>\n",
              "    <tr>\n",
              "      <th>75%</th>\n",
              "      <td>NaN</td>\n",
              "      <td>1987.000000</td>\n",
              "      <td>43.000000</td>\n",
              "    </tr>\n",
              "    <tr>\n",
              "      <th>max</th>\n",
              "      <td>NaN</td>\n",
              "      <td>8801.000000</td>\n",
              "      <td>99.000000</td>\n",
              "    </tr>\n",
              "  </tbody>\n",
              "</table>\n",
              "</div>\n",
              "      <button class=\"colab-df-convert\" onclick=\"convertToInteractive('df-b2cd8cbf-d809-4c96-a4d3-00ef621275c7')\"\n",
              "              title=\"Convert this dataframe to an interactive table.\"\n",
              "              style=\"display:none;\">\n",
              "        \n",
              "  <svg xmlns=\"http://www.w3.org/2000/svg\" height=\"24px\"viewBox=\"0 0 24 24\"\n",
              "       width=\"24px\">\n",
              "    <path d=\"M0 0h24v24H0V0z\" fill=\"none\"/>\n",
              "    <path d=\"M18.56 5.44l.94 2.06.94-2.06 2.06-.94-2.06-.94-.94-2.06-.94 2.06-2.06.94zm-11 1L8.5 8.5l.94-2.06 2.06-.94-2.06-.94L8.5 2.5l-.94 2.06-2.06.94zm10 10l.94 2.06.94-2.06 2.06-.94-2.06-.94-.94-2.06-.94 2.06-2.06.94z\"/><path d=\"M17.41 7.96l-1.37-1.37c-.4-.4-.92-.59-1.43-.59-.52 0-1.04.2-1.43.59L10.3 9.45l-7.72 7.72c-.78.78-.78 2.05 0 2.83L4 21.41c.39.39.9.59 1.41.59.51 0 1.02-.2 1.41-.59l7.78-7.78 2.81-2.81c.8-.78.8-2.07 0-2.86zM5.41 20L4 18.59l7.72-7.72 1.47 1.35L5.41 20z\"/>\n",
              "  </svg>\n",
              "      </button>\n",
              "      \n",
              "  <style>\n",
              "    .colab-df-container {\n",
              "      display:flex;\n",
              "      flex-wrap:wrap;\n",
              "      gap: 12px;\n",
              "    }\n",
              "\n",
              "    .colab-df-convert {\n",
              "      background-color: #E8F0FE;\n",
              "      border: none;\n",
              "      border-radius: 50%;\n",
              "      cursor: pointer;\n",
              "      display: none;\n",
              "      fill: #1967D2;\n",
              "      height: 32px;\n",
              "      padding: 0 0 0 0;\n",
              "      width: 32px;\n",
              "    }\n",
              "\n",
              "    .colab-df-convert:hover {\n",
              "      background-color: #E2EBFA;\n",
              "      box-shadow: 0px 1px 2px rgba(60, 64, 67, 0.3), 0px 1px 3px 1px rgba(60, 64, 67, 0.15);\n",
              "      fill: #174EA6;\n",
              "    }\n",
              "\n",
              "    [theme=dark] .colab-df-convert {\n",
              "      background-color: #3B4455;\n",
              "      fill: #D2E3FC;\n",
              "    }\n",
              "\n",
              "    [theme=dark] .colab-df-convert:hover {\n",
              "      background-color: #434B5C;\n",
              "      box-shadow: 0px 1px 3px 1px rgba(0, 0, 0, 0.15);\n",
              "      filter: drop-shadow(0px 1px 2px rgba(0, 0, 0, 0.3));\n",
              "      fill: #FFFFFF;\n",
              "    }\n",
              "  </style>\n",
              "\n",
              "      <script>\n",
              "        const buttonEl =\n",
              "          document.querySelector('#df-b2cd8cbf-d809-4c96-a4d3-00ef621275c7 button.colab-df-convert');\n",
              "        buttonEl.style.display =\n",
              "          google.colab.kernel.accessAllowed ? 'block' : 'none';\n",
              "\n",
              "        async function convertToInteractive(key) {\n",
              "          const element = document.querySelector('#df-b2cd8cbf-d809-4c96-a4d3-00ef621275c7');\n",
              "          const dataTable =\n",
              "            await google.colab.kernel.invokeFunction('convertToInteractive',\n",
              "                                                     [key], {});\n",
              "          if (!dataTable) return;\n",
              "\n",
              "          const docLinkHtml = 'Like what you see? Visit the ' +\n",
              "            '<a target=\"_blank\" href=https://colab.research.google.com/notebooks/data_table.ipynb>data table notebook</a>'\n",
              "            + ' to learn more about interactive tables.';\n",
              "          element.innerHTML = '';\n",
              "          dataTable['output_type'] = 'display_data';\n",
              "          await google.colab.output.renderOutput(dataTable, element);\n",
              "          const docLink = document.createElement('div');\n",
              "          docLink.innerHTML = docLinkHtml;\n",
              "          element.appendChild(docLink);\n",
              "        }\n",
              "      </script>\n",
              "    </div>\n",
              "  </div>\n",
              "  "
            ]
          },
          "metadata": {},
          "execution_count": 11
        }
      ],
      "source": [
        "df.describe() #include='all'"
      ]
    },
    {
      "cell_type": "code",
      "execution_count": null,
      "metadata": {
        "colab": {
          "base_uri": "https://localhost:8080/",
          "height": 206
        },
        "id": "7rs2uwwq99BH",
        "outputId": "6bf8bcbb-49f3-42c9-d388-dd4d7ff6509a"
      },
      "outputs": [
        {
          "output_type": "execute_result",
          "data": {
            "text/plain": [
              "   county_name  driver_age_raw  driver_age\n",
              "0          NaN          1985.0        20.0\n",
              "1          NaN          1965.0        40.0\n",
              "2          NaN          1972.0        33.0\n",
              "3          NaN          1986.0        19.0\n",
              "4          NaN          1984.0        21.0"
            ],
            "text/html": [
              "\n",
              "  <div id=\"df-dd972882-1f7f-4ba8-b85f-cf1b7d4d453e\">\n",
              "    <div class=\"colab-df-container\">\n",
              "      <div>\n",
              "<style scoped>\n",
              "    .dataframe tbody tr th:only-of-type {\n",
              "        vertical-align: middle;\n",
              "    }\n",
              "\n",
              "    .dataframe tbody tr th {\n",
              "        vertical-align: top;\n",
              "    }\n",
              "\n",
              "    .dataframe thead th {\n",
              "        text-align: right;\n",
              "    }\n",
              "</style>\n",
              "<table border=\"1\" class=\"dataframe\">\n",
              "  <thead>\n",
              "    <tr style=\"text-align: right;\">\n",
              "      <th></th>\n",
              "      <th>county_name</th>\n",
              "      <th>driver_age_raw</th>\n",
              "      <th>driver_age</th>\n",
              "    </tr>\n",
              "  </thead>\n",
              "  <tbody>\n",
              "    <tr>\n",
              "      <th>0</th>\n",
              "      <td>NaN</td>\n",
              "      <td>1985.0</td>\n",
              "      <td>20.0</td>\n",
              "    </tr>\n",
              "    <tr>\n",
              "      <th>1</th>\n",
              "      <td>NaN</td>\n",
              "      <td>1965.0</td>\n",
              "      <td>40.0</td>\n",
              "    </tr>\n",
              "    <tr>\n",
              "      <th>2</th>\n",
              "      <td>NaN</td>\n",
              "      <td>1972.0</td>\n",
              "      <td>33.0</td>\n",
              "    </tr>\n",
              "    <tr>\n",
              "      <th>3</th>\n",
              "      <td>NaN</td>\n",
              "      <td>1986.0</td>\n",
              "      <td>19.0</td>\n",
              "    </tr>\n",
              "    <tr>\n",
              "      <th>4</th>\n",
              "      <td>NaN</td>\n",
              "      <td>1984.0</td>\n",
              "      <td>21.0</td>\n",
              "    </tr>\n",
              "  </tbody>\n",
              "</table>\n",
              "</div>\n",
              "      <button class=\"colab-df-convert\" onclick=\"convertToInteractive('df-dd972882-1f7f-4ba8-b85f-cf1b7d4d453e')\"\n",
              "              title=\"Convert this dataframe to an interactive table.\"\n",
              "              style=\"display:none;\">\n",
              "        \n",
              "  <svg xmlns=\"http://www.w3.org/2000/svg\" height=\"24px\"viewBox=\"0 0 24 24\"\n",
              "       width=\"24px\">\n",
              "    <path d=\"M0 0h24v24H0V0z\" fill=\"none\"/>\n",
              "    <path d=\"M18.56 5.44l.94 2.06.94-2.06 2.06-.94-2.06-.94-.94-2.06-.94 2.06-2.06.94zm-11 1L8.5 8.5l.94-2.06 2.06-.94-2.06-.94L8.5 2.5l-.94 2.06-2.06.94zm10 10l.94 2.06.94-2.06 2.06-.94-2.06-.94-.94-2.06-.94 2.06-2.06.94z\"/><path d=\"M17.41 7.96l-1.37-1.37c-.4-.4-.92-.59-1.43-.59-.52 0-1.04.2-1.43.59L10.3 9.45l-7.72 7.72c-.78.78-.78 2.05 0 2.83L4 21.41c.39.39.9.59 1.41.59.51 0 1.02-.2 1.41-.59l7.78-7.78 2.81-2.81c.8-.78.8-2.07 0-2.86zM5.41 20L4 18.59l7.72-7.72 1.47 1.35L5.41 20z\"/>\n",
              "  </svg>\n",
              "      </button>\n",
              "      \n",
              "  <style>\n",
              "    .colab-df-container {\n",
              "      display:flex;\n",
              "      flex-wrap:wrap;\n",
              "      gap: 12px;\n",
              "    }\n",
              "\n",
              "    .colab-df-convert {\n",
              "      background-color: #E8F0FE;\n",
              "      border: none;\n",
              "      border-radius: 50%;\n",
              "      cursor: pointer;\n",
              "      display: none;\n",
              "      fill: #1967D2;\n",
              "      height: 32px;\n",
              "      padding: 0 0 0 0;\n",
              "      width: 32px;\n",
              "    }\n",
              "\n",
              "    .colab-df-convert:hover {\n",
              "      background-color: #E2EBFA;\n",
              "      box-shadow: 0px 1px 2px rgba(60, 64, 67, 0.3), 0px 1px 3px 1px rgba(60, 64, 67, 0.15);\n",
              "      fill: #174EA6;\n",
              "    }\n",
              "\n",
              "    [theme=dark] .colab-df-convert {\n",
              "      background-color: #3B4455;\n",
              "      fill: #D2E3FC;\n",
              "    }\n",
              "\n",
              "    [theme=dark] .colab-df-convert:hover {\n",
              "      background-color: #434B5C;\n",
              "      box-shadow: 0px 1px 3px 1px rgba(0, 0, 0, 0.15);\n",
              "      filter: drop-shadow(0px 1px 2px rgba(0, 0, 0, 0.3));\n",
              "      fill: #FFFFFF;\n",
              "    }\n",
              "  </style>\n",
              "\n",
              "      <script>\n",
              "        const buttonEl =\n",
              "          document.querySelector('#df-dd972882-1f7f-4ba8-b85f-cf1b7d4d453e button.colab-df-convert');\n",
              "        buttonEl.style.display =\n",
              "          google.colab.kernel.accessAllowed ? 'block' : 'none';\n",
              "\n",
              "        async function convertToInteractive(key) {\n",
              "          const element = document.querySelector('#df-dd972882-1f7f-4ba8-b85f-cf1b7d4d453e');\n",
              "          const dataTable =\n",
              "            await google.colab.kernel.invokeFunction('convertToInteractive',\n",
              "                                                     [key], {});\n",
              "          if (!dataTable) return;\n",
              "\n",
              "          const docLinkHtml = 'Like what you see? Visit the ' +\n",
              "            '<a target=\"_blank\" href=https://colab.research.google.com/notebooks/data_table.ipynb>data table notebook</a>'\n",
              "            + ' to learn more about interactive tables.';\n",
              "          element.innerHTML = '';\n",
              "          dataTable['output_type'] = 'display_data';\n",
              "          await google.colab.output.renderOutput(dataTable, element);\n",
              "          const docLink = document.createElement('div');\n",
              "          docLink.innerHTML = docLinkHtml;\n",
              "          element.appendChild(docLink);\n",
              "        }\n",
              "      </script>\n",
              "    </div>\n",
              "  </div>\n",
              "  "
            ]
          },
          "metadata": {},
          "execution_count": 13
        }
      ],
      "source": [
        "df.select_dtypes(include='number', exclude='object').head()"
      ]
    },
    {
      "cell_type": "code",
      "source": [
        "df.columns"
      ],
      "metadata": {
        "colab": {
          "base_uri": "https://localhost:8080/"
        },
        "id": "FqyM0t1t5O-C",
        "outputId": "fe96ae80-3f1b-4160-f73d-b07741b04b5f"
      },
      "execution_count": null,
      "outputs": [
        {
          "output_type": "execute_result",
          "data": {
            "text/plain": [
              "Index(['stop_date', 'stop_time', 'county_name', 'driver_gender',\n",
              "       'driver_age_raw', 'driver_age', 'driver_race', 'violation_raw',\n",
              "       'violation', 'search_conducted', 'search_type', 'stop_outcome',\n",
              "       'is_arrested', 'stop_duration', 'drugs_related_stop'],\n",
              "      dtype='object')"
            ]
          },
          "metadata": {},
          "execution_count": 41
        }
      ]
    },
    {
      "cell_type": "code",
      "source": [
        "df.loc[((df.violation=='Speeding') & (df.driver_age>=50)), ['violation', 'driver_age']]\\\n",
        ".sort_values('driver_age')\\\n",
        ".nlargest(5, 'driver_age')\\\n",
        ".reset_index(drop=True)"
      ],
      "metadata": {
        "id": "w94_AnZnuvYm",
        "colab": {
          "base_uri": "https://localhost:8080/",
          "height": 206
        },
        "outputId": "3049bbbe-01ea-404e-e355-edbcbd63983c"
      },
      "execution_count": null,
      "outputs": [
        {
          "output_type": "execute_result",
          "data": {
            "text/plain": [
              "  violation  driver_age\n",
              "0  Speeding        90.0\n",
              "1  Speeding        88.0\n",
              "2  Speeding        88.0\n",
              "3  Speeding        87.0\n",
              "4  Speeding        87.0"
            ],
            "text/html": [
              "\n",
              "  <div id=\"df-02dc6dd3-512e-41e8-95a8-cd5ac8904f97\">\n",
              "    <div class=\"colab-df-container\">\n",
              "      <div>\n",
              "<style scoped>\n",
              "    .dataframe tbody tr th:only-of-type {\n",
              "        vertical-align: middle;\n",
              "    }\n",
              "\n",
              "    .dataframe tbody tr th {\n",
              "        vertical-align: top;\n",
              "    }\n",
              "\n",
              "    .dataframe thead th {\n",
              "        text-align: right;\n",
              "    }\n",
              "</style>\n",
              "<table border=\"1\" class=\"dataframe\">\n",
              "  <thead>\n",
              "    <tr style=\"text-align: right;\">\n",
              "      <th></th>\n",
              "      <th>violation</th>\n",
              "      <th>driver_age</th>\n",
              "    </tr>\n",
              "  </thead>\n",
              "  <tbody>\n",
              "    <tr>\n",
              "      <th>0</th>\n",
              "      <td>Speeding</td>\n",
              "      <td>90.0</td>\n",
              "    </tr>\n",
              "    <tr>\n",
              "      <th>1</th>\n",
              "      <td>Speeding</td>\n",
              "      <td>88.0</td>\n",
              "    </tr>\n",
              "    <tr>\n",
              "      <th>2</th>\n",
              "      <td>Speeding</td>\n",
              "      <td>88.0</td>\n",
              "    </tr>\n",
              "    <tr>\n",
              "      <th>3</th>\n",
              "      <td>Speeding</td>\n",
              "      <td>87.0</td>\n",
              "    </tr>\n",
              "    <tr>\n",
              "      <th>4</th>\n",
              "      <td>Speeding</td>\n",
              "      <td>87.0</td>\n",
              "    </tr>\n",
              "  </tbody>\n",
              "</table>\n",
              "</div>\n",
              "      <button class=\"colab-df-convert\" onclick=\"convertToInteractive('df-02dc6dd3-512e-41e8-95a8-cd5ac8904f97')\"\n",
              "              title=\"Convert this dataframe to an interactive table.\"\n",
              "              style=\"display:none;\">\n",
              "        \n",
              "  <svg xmlns=\"http://www.w3.org/2000/svg\" height=\"24px\"viewBox=\"0 0 24 24\"\n",
              "       width=\"24px\">\n",
              "    <path d=\"M0 0h24v24H0V0z\" fill=\"none\"/>\n",
              "    <path d=\"M18.56 5.44l.94 2.06.94-2.06 2.06-.94-2.06-.94-.94-2.06-.94 2.06-2.06.94zm-11 1L8.5 8.5l.94-2.06 2.06-.94-2.06-.94L8.5 2.5l-.94 2.06-2.06.94zm10 10l.94 2.06.94-2.06 2.06-.94-2.06-.94-.94-2.06-.94 2.06-2.06.94z\"/><path d=\"M17.41 7.96l-1.37-1.37c-.4-.4-.92-.59-1.43-.59-.52 0-1.04.2-1.43.59L10.3 9.45l-7.72 7.72c-.78.78-.78 2.05 0 2.83L4 21.41c.39.39.9.59 1.41.59.51 0 1.02-.2 1.41-.59l7.78-7.78 2.81-2.81c.8-.78.8-2.07 0-2.86zM5.41 20L4 18.59l7.72-7.72 1.47 1.35L5.41 20z\"/>\n",
              "  </svg>\n",
              "      </button>\n",
              "      \n",
              "  <style>\n",
              "    .colab-df-container {\n",
              "      display:flex;\n",
              "      flex-wrap:wrap;\n",
              "      gap: 12px;\n",
              "    }\n",
              "\n",
              "    .colab-df-convert {\n",
              "      background-color: #E8F0FE;\n",
              "      border: none;\n",
              "      border-radius: 50%;\n",
              "      cursor: pointer;\n",
              "      display: none;\n",
              "      fill: #1967D2;\n",
              "      height: 32px;\n",
              "      padding: 0 0 0 0;\n",
              "      width: 32px;\n",
              "    }\n",
              "\n",
              "    .colab-df-convert:hover {\n",
              "      background-color: #E2EBFA;\n",
              "      box-shadow: 0px 1px 2px rgba(60, 64, 67, 0.3), 0px 1px 3px 1px rgba(60, 64, 67, 0.15);\n",
              "      fill: #174EA6;\n",
              "    }\n",
              "\n",
              "    [theme=dark] .colab-df-convert {\n",
              "      background-color: #3B4455;\n",
              "      fill: #D2E3FC;\n",
              "    }\n",
              "\n",
              "    [theme=dark] .colab-df-convert:hover {\n",
              "      background-color: #434B5C;\n",
              "      box-shadow: 0px 1px 3px 1px rgba(0, 0, 0, 0.15);\n",
              "      filter: drop-shadow(0px 1px 2px rgba(0, 0, 0, 0.3));\n",
              "      fill: #FFFFFF;\n",
              "    }\n",
              "  </style>\n",
              "\n",
              "      <script>\n",
              "        const buttonEl =\n",
              "          document.querySelector('#df-02dc6dd3-512e-41e8-95a8-cd5ac8904f97 button.colab-df-convert');\n",
              "        buttonEl.style.display =\n",
              "          google.colab.kernel.accessAllowed ? 'block' : 'none';\n",
              "\n",
              "        async function convertToInteractive(key) {\n",
              "          const element = document.querySelector('#df-02dc6dd3-512e-41e8-95a8-cd5ac8904f97');\n",
              "          const dataTable =\n",
              "            await google.colab.kernel.invokeFunction('convertToInteractive',\n",
              "                                                     [key], {});\n",
              "          if (!dataTable) return;\n",
              "\n",
              "          const docLinkHtml = 'Like what you see? Visit the ' +\n",
              "            '<a target=\"_blank\" href=https://colab.research.google.com/notebooks/data_table.ipynb>data table notebook</a>'\n",
              "            + ' to learn more about interactive tables.';\n",
              "          element.innerHTML = '';\n",
              "          dataTable['output_type'] = 'display_data';\n",
              "          await google.colab.output.renderOutput(dataTable, element);\n",
              "          const docLink = document.createElement('div');\n",
              "          docLink.innerHTML = docLinkHtml;\n",
              "          element.appendChild(docLink);\n",
              "        }\n",
              "      </script>\n",
              "    </div>\n",
              "  </div>\n",
              "  "
            ]
          },
          "metadata": {},
          "execution_count": 48
        }
      ]
    },
    {
      "cell_type": "code",
      "source": [
        " inbdf['county_name'].count()0nb"
      ],
      "metadata": {
        "colab": {
          "base_uri": "https://localhost:8080/"
        },
        "id": "41yk8NWsv7sj",
        "outputId": "206bf767-6d9e-4fdb-e61b-afbe77792be6"
      },
      "execution_count": null,
      "outputs": [
        {
          "output_type": "execute_result",
          "data": {
            "text/plain": [
              "0"
            ]
          },
          "metadata": {},
          "execution_count": 32
        }
      ]
    },
    {
      "cell_type": "code",
      "source": [],
      "metadata": {
        "id": "IQROZNKOw2JJ"
      },
      "execution_count": null,
      "outputs": []
    }
  ],
  "metadata": {
    "colab": {
      "provenance": [],
      "include_colab_link": true
    },
    "kernelspec": {
      "display_name": "Python 3",
      "name": "python3"
    },
    "language_info": {
      "name": "python"
    }
  },
  "nbformat": 4,
  "nbformat_minor": 0
}