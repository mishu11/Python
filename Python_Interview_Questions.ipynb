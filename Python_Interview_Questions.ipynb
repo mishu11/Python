{
  "nbformat": 4,
  "nbformat_minor": 0,
  "metadata": {
    "colab": {
      "provenance": [],
      "authorship_tag": "ABX9TyOaeI/Gjp4OZvNI4Tv6H8u8",
      "include_colab_link": true
    },
    "kernelspec": {
      "name": "python3",
      "display_name": "Python 3"
    },
    "language_info": {
      "name": "python"
    }
  },
  "cells": [
    {
      "cell_type": "markdown",
      "metadata": {
        "id": "view-in-github",
        "colab_type": "text"
      },
      "source": [
        "<a href=\"https://colab.research.google.com/github/mishu11/Python/blob/main/Python_Interview_Questions.ipynb\" target=\"_parent\"><img src=\"https://colab.research.google.com/assets/colab-badge.svg\" alt=\"Open In Colab\"/></a>"
      ]
    },
    {
      "cell_type": "code",
      "execution_count": null,
      "metadata": {
        "colab": {
          "base_uri": "https://localhost:8080/"
        },
        "id": "X4pMCbhinSXH",
        "outputId": "8900e6f3-9780-4f3e-de7f-88a62ac6b14e"
      },
      "outputs": [
        {
          "output_type": "execute_result",
          "data": {
            "text/plain": [
              "{'pavan': 2, 'aman': 1}"
            ]
          },
          "metadata": {},
          "execution_count": 19
        }
      ],
      "source": [
        "# Count the frequency of words\n",
        "# appearing in a string Using Python\n",
        "def freq_words():\n",
        "  str=input(\"Enter a string\")\n",
        "  li=str.split()\n",
        "  d={}\n",
        "  for i in li:\n",
        "    if i not in d.keys():\n",
        "      d[i]=0\n",
        "    d[i]=d[i]+1\n",
        "d\n",
        "#duplicate keys nahi banti \n",
        "#Remove duplicates\n",
        "# s = 'aababbcccc'\n",
        "# dic = {}\n",
        "# for i in s:\n",
        "#   dic[i]=0\n",
        "\n",
        "# print(''.join(dic))\n",
        "\n"
      ]
    },
    {
      "cell_type": "code",
      "source": [
        "# Rearrange Array Alternately\n",
        "#OutPut-->6 1 5 2 4 3\n",
        "\n",
        "arr=[1,2,3,4,5,6]\n",
        "n=len(arr)\n",
        "ll=[]\n",
        "for i in range(int(n/2)):\n",
        "    ll.append(arr[n-1-i])\n",
        "    ll.append(arr[i])\n",
        "print(ll)"
      ],
      "metadata": {
        "id": "7yeYD8OOvCkI",
        "outputId": "6574fe55-c019-479c-80c8-842358f1cc55",
        "colab": {
          "base_uri": "https://localhost:8080/"
        }
      },
      "execution_count": null,
      "outputs": [
        {
          "output_type": "stream",
          "name": "stdout",
          "text": [
            "[6, 1, 5, 2, 4, 3]\n"
          ]
        }
      ]
    },
    {
      "cell_type": "code",
      "source": [
        "#First element to occur k times\n",
        "'''\n",
        "Given an array of N integers.\n",
        "Find the first element that occurs\n",
        "at least K number of times.\n",
        "'''\n",
        "arr=[0]*999\n",
        "a=[1, 7, 4, 3, 4, 8, 7]\n",
        "n=len(a)\n",
        "for i in range(n):\n",
        "  print(arr[a[i]])\n",
        "  arr[a[i]]+=1\n",
        "  print(arr[a[i]])\n",
        "  print(a[i])\n",
        "  print('------------')\n",
        "\n",
        "\n"
      ],
      "metadata": {
        "colab": {
          "base_uri": "https://localhost:8080/"
        },
        "id": "Eb4wLX_hlLVF",
        "outputId": "e048cf08-909f-4f1a-be2e-10d9e95c3c53"
      },
      "execution_count": null,
      "outputs": [
        {
          "output_type": "stream",
          "name": "stdout",
          "text": [
            "0\n",
            "1\n",
            "1\n",
            "------------\n",
            "0\n",
            "1\n",
            "7\n",
            "------------\n",
            "0\n",
            "1\n",
            "4\n",
            "------------\n",
            "0\n",
            "1\n",
            "3\n",
            "------------\n",
            "1\n",
            "2\n",
            "4\n",
            "------------\n",
            "0\n",
            "1\n",
            "8\n",
            "------------\n",
            "1\n",
            "2\n",
            "7\n",
            "------------\n"
          ]
        }
      ]
    },
    {
      "cell_type": "code",
      "source": [
        "#Quick Sort\n",
        "l=[6,3,9,5,2,8]\n",
        "n=len(l)-1\n",
        "\n",
        "i=0\n",
        "j=n-2\n",
        "p=n-1\n",
        "while(i<j):\n",
        "  if l[i]>l[p]:\n",
        "    l[i],l[j]=l[j],l[i]\n",
        "    i+=1\n",
        "    j-=1\n",
        "\n",
        "l\n"
      ],
      "metadata": {
        "colab": {
          "base_uri": "https://localhost:8080/"
        },
        "id": "s_V_kaPDffec",
        "outputId": "81600684-92fb-4ce3-b8c8-dfedc32c4a46"
      },
      "execution_count": null,
      "outputs": [
        {
          "output_type": "execute_result",
          "data": {
            "text/plain": [
              "[5, 9, 3, 6, 2, 8]"
            ]
          },
          "metadata": {},
          "execution_count": 3
        }
      ]
    },
    {
      "cell_type": "code",
      "source": [
        "l=[0,1,1,0,2,1,0]\n",
        "d={}\n",
        "for i in l:\n",
        "  if i not in d:\n",
        "    d[i]=0\n",
        "  d[i]+=1\n",
        "for i,j in d.items():\n",
        "  if i==0:\n",
        "    print([i]*j,end=' ')\n",
        "  if i==1:\n",
        "    print([i]*j,end=' ')\n",
        "  if i==2:\n",
        "    print([i]*j,end='')\n"
      ],
      "metadata": {
        "colab": {
          "base_uri": "https://localhost:8080/"
        },
        "id": "mtskWw40Od6G",
        "outputId": "993fbc94-1fa2-4cb9-dbc8-c1cc0e550cc7"
      },
      "execution_count": null,
      "outputs": [
        {
          "output_type": "stream",
          "name": "stdout",
          "text": [
            "[0, 0, 0] [1, 1, 1] [2]"
          ]
        }
      ]
    },
    {
      "cell_type": "code",
      "source": [
        "#Rotating an array\n",
        "# Arr[] = {1, 2, 3, 4, 5, 6, 7}\n",
        "# D = 2\n",
        "# Output: 3 4 5 6 7 1 2\n",
        "\n",
        "\n",
        "#In for loop we can't change the i=2 or i=3 ,it always start from 0\n",
        "arr=[1,2,3,4,5]\n",
        "d=2\n",
        "l=[]\n",
        "i=d\n",
        "while(i<len(arr)):\n",
        "  l.append(arr[i])\n",
        "  i+=1\n",
        "for i in range(d):\n",
        "  l.append(arr[i])\n",
        "l\n",
        "\n",
        "\n",
        "\n",
        "\n",
        "\n",
        "  "
      ],
      "metadata": {
        "colab": {
          "base_uri": "https://localhost:8080/"
        },
        "id": "TT0wEJzpqrHL",
        "outputId": "401f3bbf-72a5-4228-9b8e-fcaa3ef6a7f0"
      },
      "execution_count": null,
      "outputs": [
        {
          "output_type": "execute_result",
          "data": {
            "text/plain": [
              "[3, 4, 5, 1, 2]"
            ]
          },
          "metadata": {},
          "execution_count": 15
        }
      ]
    },
    {
      "cell_type": "code",
      "source": [
        "#First and last occurrences of x\n",
        "'''\n",
        "Input:\n",
        "n=9, x=5\n",
        "arr[] = { 1, 3, 5, 5, 5, 5, 67, 123, 125 }\n",
        "Output:  2 5\n",
        "Explanation: First occurrence of 5 is at index 2 and last\n",
        "             occurrence of 5 is at index 5. \n",
        "\n",
        "'''\n",
        "arr=[ 1, 3, 5, 5, 5, 5, 67, 123, 125 ]\n",
        "n=len(arr)-1\n",
        "x=5\n",
        "\n",
        "\n"
      ],
      "metadata": {
        "colab": {
          "base_uri": "https://localhost:8080/"
        },
        "id": "SczftUlvkxgC",
        "outputId": "1bfe02ad-5716-44ad-9220-0ff3d1daa528"
      },
      "execution_count": null,
      "outputs": [
        {
          "output_type": "execute_result",
          "data": {
            "text/plain": [
              "[0, 1, 2]"
            ]
          },
          "metadata": {},
          "execution_count": 18
        }
      ]
    },
    {
      "cell_type": "code",
      "source": [
        "#Quick Sort\n",
        "\n",
        "def partition(elements):\n",
        "  pass \n",
        "def quickSort(elements):\n",
        "  pass\n",
        "\n",
        "\n",
        "\n",
        "elements=[11,7,2,66,71,223,45,52]"
      ],
      "metadata": {
        "id": "onZZAnSLTnH-"
      },
      "execution_count": null,
      "outputs": []
    },
    {
      "cell_type": "code",
      "source": [
        "l=[0,5,2,1,3,6,7]\n",
        "ll=sorted(l)\n",
        "k=l.sort()\n",
        "ll\n"
      ],
      "metadata": {
        "colab": {
          "base_uri": "https://localhost:8080/"
        },
        "id": "y6FbM4Zp0BCO",
        "outputId": "4f93b9c4-a52c-4f33-ddc2-eb37ca37029f"
      },
      "execution_count": null,
      "outputs": [
        {
          "output_type": "execute_result",
          "data": {
            "text/plain": [
              "[0, 1, 2, 3, 5, 6, 7]"
            ]
          },
          "metadata": {},
          "execution_count": 25
        }
      ]
    },
    {
      "cell_type": "code",
      "source": [
        "def reverseList(arr, i, j):\n",
        "    while i < j:\n",
        "        arr[i], arr[j] = arr[j], arr[i]\n",
        "        i += 1\n",
        "        j -= 1\n",
        "# Driver function to test above function\n",
        "arr= [1, 2, 3, 4, 5, 6]\n",
        "print(arr)\n",
        "reverseList(arr, 0, len(arr)-1)\n",
        "print(\"Reversed list is\")\n",
        "print(arr)"
      ],
      "metadata": {
        "colab": {
          "base_uri": "https://localhost:8080/"
        },
        "id": "IoJV7pI8srDG",
        "outputId": "7e043068-8007-429b-fad7-35f3839bdb7e"
      },
      "execution_count": null,
      "outputs": [
        {
          "output_type": "stream",
          "name": "stdout",
          "text": [
            "[1, 2, 3, 4, 5, 6]\n",
            "Reversed list is\n",
            "[6, 5, 4, 3, 2, 1]\n"
          ]
        }
      ]
    },
    {
      "cell_type": "code",
      "source": [
        "def reverseList(A, start, end):\n",
        "    while start < end:\n",
        "        A[start], A[end] = A[end], A[start]\n",
        "        start += 1\n",
        "        end -= 1\n",
        " \n",
        "# Driver function to test above function\n",
        "A = [1, 2, 3, 4, 5, 6]\n",
        "print(A)\n",
        "reverseList(A, 0, 5)\n",
        "print(\"Reversed list is\")\n",
        "print(A)"
      ],
      "metadata": {
        "colab": {
          "base_uri": "https://localhost:8080/"
        },
        "id": "AmqnHCbBqoBn",
        "outputId": "512d15af-f8e6-4252-ceb1-4e61e2c65e81"
      },
      "execution_count": null,
      "outputs": [
        {
          "output_type": "stream",
          "name": "stdout",
          "text": [
            "[1, 2, 3, 4, 5, 6]\n",
            "Reversed list is\n",
            "[6, 5, 4, 3, 2, 1]\n"
          ]
        }
      ]
    },
    {
      "cell_type": "code",
      "source": [
        "#Removed duplicates\n",
        "hh='gfdgd'\n",
        "print(list(hh))\n",
        "# s='pavan aman pavan'\n",
        "# l=s.split(' ')\n",
        "l=['pavan','aman','pavan']\n",
        "d={}\n",
        "ll=[]\n",
        "for i in l:\n",
        "  if i not in d:\n",
        "    d[i]=0\n",
        "  d[i]+=1\n",
        "print(d)\n",
        "for i,j in d.items():\n",
        "  ll.append(i)\n",
        "ll\n",
        " \n",
        "  "
      ],
      "metadata": {
        "colab": {
          "base_uri": "https://localhost:8080/"
        },
        "id": "xi_uXfViXzb8",
        "outputId": "e661a012-4856-45f5-88c3-d7e59d4c1687"
      },
      "execution_count": null,
      "outputs": [
        {
          "output_type": "stream",
          "name": "stdout",
          "text": [
            "['g', 'f', 'd', 'g', 'd']\n",
            "{'pavan': 2, 'aman': 1}\n"
          ]
        },
        {
          "output_type": "execute_result",
          "data": {
            "text/plain": [
              "['pavan', 'aman']"
            ]
          },
          "metadata": {},
          "execution_count": 14
        }
      ]
    },
    {
      "cell_type": "code",
      "source": [
        "a=[0, 2, 1, 0, 1, 2, 1, 2, 0, 0, 0, 2]\n",
        "# d={}\n",
        "# l=[]\n",
        "# for i in a:\n",
        "#     if i not in d:\n",
        "#         d[i]=0\n",
        "#     d[i]+=1 \n",
        "# for i,j in d.items():\n",
        "#     if i<i+1 and i<i+2:\n",
        "#         l+=[i]*j\n",
        "# print(l)\n",
        "n = len(a)\n",
        "lo = 0\n",
        "mid = 0\n",
        "hi = n-1\n",
        "\n",
        "while mid <= hi:\n",
        "    if a[mid]== 0:\n",
        "        a[lo],a[mid] = a[mid],a[lo]\n",
        "        lo += 1\n",
        "        mid+= 1        \n",
        "    elif a[mid] == 1:\n",
        "        mid += 1\n",
        "        \n",
        "    else:\n",
        "        a[hi],a[mid] = a[mid],a[hi]\n",
        "        hi -= 1               \n",
        "print(a)\n"
      ],
      "metadata": {
        "colab": {
          "base_uri": "https://localhost:8080/"
        },
        "id": "AwuG6YiMC1Mk",
        "outputId": "ccef0019-da20-4a4c-8d74-4ec0dc6bb864"
      },
      "execution_count": null,
      "outputs": [
        {
          "output_type": "stream",
          "name": "stdout",
          "text": [
            "[0, 0, 0, 0, 0, 1, 1, 1, 2, 2, 2, 2]\n"
          ]
        }
      ]
    },
    {
      "cell_type": "code",
      "source": [
        "#selection sort\n",
        "nums=[23,4,1,4,55]\n",
        "n=len(nums)\n",
        "for i in range(n-1):\n",
        "  minpos=i\n",
        "  for j in range(i,n):\n",
        "    if nums[j]<nums[minpos]:\n",
        "      minpos=j\n",
        "  nums[i],nums[minpos]=nums[minpos],nums[i]\n",
        "nums\n",
        "\n",
        "\n",
        "  \n"
      ],
      "metadata": {
        "colab": {
          "base_uri": "https://localhost:8080/"
        },
        "id": "ym6QEBLkQmnJ",
        "outputId": "4b2e7f86-b1eb-47ff-b98b-86dbaba90298"
      },
      "execution_count": null,
      "outputs": [
        {
          "output_type": "execute_result",
          "data": {
            "text/plain": [
              "[1, 4, 4, 23, 55]"
            ]
          },
          "metadata": {},
          "execution_count": 19
        }
      ]
    },
    {
      "cell_type": "code",
      "source": [
        "#Conversion of two list into Dictionary Using Python\n",
        "def list_to_dict():\n",
        "  li1=['Naina','Kimi','Sheena']\n",
        "  li2=[1,2,3]\n",
        "  k=dict(zip(li1,li2))\n",
        "  print(k)\n",
        "list_to_dict()\n"
      ],
      "metadata": {
        "colab": {
          "base_uri": "https://localhost:8080/"
        },
        "id": "huone5I3nu9l",
        "outputId": "534aa458-7fd4-4623-d114-f740722b35ef"
      },
      "execution_count": null,
      "outputs": [
        {
          "output_type": "stream",
          "name": "stdout",
          "text": [
            "{'Naina': 1, 'Kimi': 2, 'Sheena': 3}\n"
          ]
        }
      ]
    },
    {
      "cell_type": "code",
      "source": [
        "#FIND MISSING NUMBER IN AN ARRAY IN PYTHON\n",
        "l=[1,2,3,5,6,7]\n",
        "n=len(l)\n",
        "n=(n*(n+1))/2\n",
        "int(abs(n-sum(l)))\n"
      ],
      "metadata": {
        "colab": {
          "base_uri": "https://localhost:8080/"
        },
        "id": "Mw1nU9Dxqk9t",
        "outputId": "1559b7ad-a99b-4f8b-e41a-bde1a32a409f"
      },
      "execution_count": null,
      "outputs": [
        {
          "output_type": "execute_result",
          "data": {
            "text/plain": [
              "3"
            ]
          },
          "metadata": {},
          "execution_count": 1
        }
      ]
    },
    {
      "cell_type": "code",
      "source": [
        "#Find Out Pairs with given sum in an array in \n",
        "#python of time complexity O(n log n)- FACEBOOK,AMAZON\n",
        "\n",
        "def find(li,target):\n",
        "  i=0\n",
        "  j=len(li)-1\n",
        "  while(i<=j):\n",
        "    if li[i]+li[j]==target:\n",
        "      print(li[i],li[j])\n",
        "      j=j+1\n",
        "      i=i-1\n",
        "    elif li[i]+li[j]>target:\n",
        "      j=j-1\n",
        "    elif li[i]+li[j]<target:\n",
        "      i=i+1\n",
        "\n",
        "\n",
        "arr=[1,2,3,45,67,26]\n",
        "target=48\n",
        "print(find(arr,target))\n",
        "\n",
        "\n",
        "\n",
        "\n",
        "\n"
      ],
      "metadata": {
        "id": "LAiedUuSr3EI",
        "colab": {
          "base_uri": "https://localhost:8080/"
        },
        "outputId": "19a9af5f-dce1-4e93-f753-9a466d9998af"
      },
      "execution_count": null,
      "outputs": [
        {
          "output_type": "stream",
          "name": "stdout",
          "text": [
            "None\n"
          ]
        }
      ]
    },
    {
      "cell_type": "code",
      "source": [],
      "metadata": {
        "id": "yw2dx6nt1YQ4"
      },
      "execution_count": null,
      "outputs": []
    },
    {
      "cell_type": "code",
      "source": [
        "#Find minimum difference between two elements of array\n",
        "\n",
        "#when ever we are solving of array ,make sure 1st you sort,so its easy for us.\n",
        "def min_diff(arr):\n",
        "  arr=sorted(arr)\n",
        "  size=len(arr)\n",
        "  min_diff=2222222\n",
        "  for i in range(size-1):\n",
        "    if arr[i+1]-arr[i]<min_diff:\n",
        "      min_diff=arr[i+1]-arr[i]\n",
        "  return min_diff\n",
        "\n",
        "arr=[5,32,45,4,12,18,25]\n",
        "print(min_diff(arr))\n",
        "\n",
        " \n"
      ],
      "metadata": {
        "colab": {
          "base_uri": "https://localhost:8080/"
        },
        "id": "8Ehv5voyspkT",
        "outputId": "a99fc97f-fb9b-4cbc-8d04-5c216e5a5a16"
      },
      "execution_count": null,
      "outputs": [
        {
          "output_type": "stream",
          "name": "stdout",
          "text": [
            "1\n"
          ]
        }
      ]
    },
    {
      "cell_type": "code",
      "source": [
        "nums=[5,3,8,6,7,2]\n",
        "minn=nums[0]\n",
        "n=len(nums)\n",
        "for i in range(n-1):\n",
        "  minpos=i\n",
        "  for j in range(i,n):\n",
        "    if nums[j]<nums[minpos]:\n",
        "      minpos=j \n",
        "  # temp=nums[i]\n",
        "  # nums[i]=nums[minpos]\n",
        "  # nums[minpos]=temp\n",
        "  nums[i],nums[minpos]=nums[minpos],nums[i]\n",
        "nums\n",
        "\n",
        "    \n",
        "  \n",
        "\n",
        "\n"
      ],
      "metadata": {
        "colab": {
          "base_uri": "https://localhost:8080/"
        },
        "id": "Wv2Ak3FzL_xM",
        "outputId": "3f25aaef-17d8-421c-b212-2c7517a5fcf1"
      },
      "execution_count": null,
      "outputs": [
        {
          "output_type": "execute_result",
          "data": {
            "text/plain": [
              "[2, 3, 5, 6, 7, 8]"
            ]
          },
          "metadata": {},
          "execution_count": 13
        }
      ]
    },
    {
      "cell_type": "code",
      "source": [
        "#Postfix Expression\n",
        "A=['2','1','+','3','*']\n"
      ],
      "metadata": {
        "id": "v4Y-GmnDzO_J"
      },
      "execution_count": null,
      "outputs": []
    },
    {
      "cell_type": "code",
      "source": [
        "#conversion of array into wave array\n",
        "arr=[3,5,12,2,6,10,7,9,8]\n",
        "for  i in range(0,len(arr),2):\n",
        "  if i>0 and arr[i-1]>arr[i]:\n",
        "    arr[i-1],arr[i]=arr[i],arr[i-1]\n",
        "  if i<len(arr)-1 and  arr[i]<arr[i+1]:\n",
        "    arr[i],arr[i+1]=arr[i+1],arr[i]\n",
        "arr"
      ],
      "metadata": {
        "id": "Ry7e_3ki42II",
        "colab": {
          "base_uri": "https://localhost:8080/"
        },
        "outputId": "1f572cc0-e381-457d-f8e1-5d3223af61d0"
      },
      "execution_count": null,
      "outputs": [
        {
          "output_type": "execute_result",
          "data": {
            "text/plain": [
              "[5, 3, 12, 2, 10, 6, 9, 7, 8]"
            ]
          },
          "metadata": {},
          "execution_count": 12
        }
      ]
    },
    {
      "cell_type": "code",
      "source": [
        "#Hotel Booking \n",
        "\n",
        "def hotel_booking(arrival,depart,k):\n",
        "  EVENT=[]\n",
        "  for i in range(0,len(arrival)):\n",
        "    t_arrive=()\n",
        "    t_arrive=t_arrive+(arrival[i],'RED')\n",
        "    EVENT.append(t_arrive)\n",
        "  for i in range(0,len(depart)):\n",
        "    t_depart=()\n",
        "    t_depart=t_depart+(depart[i],\"BLUE\")\n",
        "    EVENT.append(t_depart)\n",
        "  print(EVENT)\n",
        "  event=sorted(EVENT)\n",
        "\n",
        "arrival=[1,3,5]\n",
        "depart=[2,6,8]\n",
        "hotel_booking(arrival,depart,1)"
      ],
      "metadata": {
        "colab": {
          "base_uri": "https://localhost:8080/"
        },
        "id": "58xNrQ9oxhYI",
        "outputId": "6632db30-04cb-431e-8179-0556b585fca2"
      },
      "execution_count": null,
      "outputs": [
        {
          "output_type": "stream",
          "name": "stdout",
          "text": [
            "[(1, 'RED'), (3, 'RED'), (5, 'RED'), (2, 'BLUE'), (6, 'BLUE'), (8, 'BLUE')]\n"
          ]
        }
      ]
    },
    {
      "cell_type": "code",
      "source": [
        "# Remove duplicates from sorted array\n",
        "\n",
        "def remove_duplicates(arr):\n",
        "  n=len(arr)\n",
        "  if n==0 or n==1:\n",
        "    return arr\n",
        "  temp=[0]*n\n",
        "  pivot=0\n",
        "  for i in range(len(arr)-1):\n",
        "     if arr[i]!=arr[i+1]:\n",
        "        temp[pivot]=arr[i]\n",
        "        pivot+=1\n",
        "\n",
        "  temp[pivot]=arr[n-1]\n",
        "  return temp[0:pivot+1]\n",
        "\n",
        "arr=[1,1,2,2,2,3,3,3,4,4,4]\n",
        "print(remove_duplicates(arr))\n",
        "\n"
      ],
      "metadata": {
        "colab": {
          "base_uri": "https://localhost:8080/"
        },
        "id": "NvKisYctxhhq",
        "outputId": "a2e8e07d-49bb-4de4-f0f1-dc52fd8f2255"
      },
      "execution_count": null,
      "outputs": [
        {
          "output_type": "stream",
          "name": "stdout",
          "text": [
            "[1, 2, 3, 4]\n"
          ]
        }
      ]
    },
    {
      "cell_type": "code",
      "source": [
        "#Maximum Sum Subarray\n",
        "arr=[4,-3,-2,2,3,1,-2,-3,6,-6,-4,2,1]\n",
        "cur_sum=0\n",
        "max_far=arr[0]\n",
        "for i in range(0,len(arr)):\n",
        "  cur_sum=cur_sum+arr[i]\n",
        "  if max_far<cur_sum:\n",
        "    max_far=cur_sum \n",
        "  if cur_sum<0:\n",
        "    cur_sum=0\n",
        "max_far\n",
        "\n",
        "\n",
        "\n",
        "\n",
        "\n",
        "# #Maximum Sum Subarray with what to what index\n",
        "# arr=[4,-3,-2,2,3,1,-2,-3,6,-6,-4,2,1]\n",
        "# cur_sum=0\n",
        "# max_far=arr[0]\n",
        "# st=0\n",
        "# en=0\n",
        "# poi=0\n",
        "# for i in range(0,len(arr)):\n",
        "#   cur_sum=cur_sum+arr[i]\n",
        "#   if max_far<cur_sum:\n",
        "#     st=poi\n",
        "#     en=i\n",
        "#     max_far=cur_sum \n",
        "#   if cur_sum<0:\n",
        "#     cur_sum=0\n",
        "#     poi=i+1\n",
        "# max_far,st,en\n",
        "\n",
        "   "
      ],
      "metadata": {
        "colab": {
          "base_uri": "https://localhost:8080/"
        },
        "id": "DzzUKKPhE-Fh",
        "outputId": "de88c39e-daa4-4f10-f99a-7dc5e0236c2d"
      },
      "execution_count": null,
      "outputs": [
        {
          "output_type": "execute_result",
          "data": {
            "text/plain": [
              "7"
            ]
          },
          "metadata": {},
          "execution_count": 14
        }
      ]
    },
    {
      "cell_type": "code",
      "source": [
        "#Find the index of Groups of strings that are ANAGRAMS\n"
      ],
      "metadata": {
        "id": "_JcLwukLL0ON"
      },
      "execution_count": null,
      "outputs": []
    },
    {
      "cell_type": "code",
      "source": [
        "#Binary Search  \n",
        "def bs(ll,target):\n",
        "  i=0\n",
        "  j=len(ll)-1\n",
        "  target=12\n",
        "  while(i<j):\n",
        "    mid=int((i+j)/2)\n",
        "    if ll[mid]==target:\n",
        "      return mid,ll[mid]\n",
        "    elif ll[mid]>target:\n",
        "      j=j-1\n",
        "    else:\n",
        "      i=i+1\n",
        "\n",
        "    \n",
        "ll=[4,7,8,12,45,99]\n",
        "target=12\n",
        "print(bs(ll,target))\n",
        "\n"
      ],
      "metadata": {
        "colab": {
          "base_uri": "https://localhost:8080/"
        },
        "id": "hvDjWQhVpgRQ",
        "outputId": "2244a505-b771-4150-a3a9-95a110de2cc6"
      },
      "execution_count": null,
      "outputs": [
        {
          "output_type": "stream",
          "name": "stdout",
          "text": [
            "(3, 12)\n"
          ]
        }
      ]
    },
    {
      "cell_type": "code",
      "source": [
        "#Find Rotattion of string\n",
        "s='Discover'\n",
        "size=len(s)\n",
        "temp=s+s #DiscoverDiscover\n",
        "for i in range(size):\n",
        "  for j in range(size):\n",
        "    print(temp[i+j],end='')\n",
        "  print()\n"
      ],
      "metadata": {
        "id": "jFZoIeFixgmN",
        "colab": {
          "base_uri": "https://localhost:8080/"
        },
        "outputId": "dddb40f9-468e-4223-a882-afefa3a5201e"
      },
      "execution_count": null,
      "outputs": [
        {
          "output_type": "stream",
          "name": "stdout",
          "text": [
            "Discover\n",
            "iscoverD\n",
            "scoverDi\n",
            "coverDis\n",
            "overDisc\n",
            "verDisco\n",
            "erDiscov\n",
            "rDiscove\n"
          ]
        }
      ]
    },
    {
      "cell_type": "code",
      "source": [
        "#Reverse Words in String\n",
        "s='Mishu is going to become billionare'\n",
        "s1=s.split(' ')\n",
        "s1=s1[::-1]\n",
        "s1=' '.join(s1)\n",
        "s1"
      ],
      "metadata": {
        "id": "KWpsOsRzqu6U",
        "colab": {
          "base_uri": "https://localhost:8080/",
          "height": 35
        },
        "outputId": "9f4306c0-f577-4233-af7f-51d698d7c4e9"
      },
      "execution_count": null,
      "outputs": [
        {
          "output_type": "execute_result",
          "data": {
            "text/plain": [
              "'billionare become to going is Mishu'"
            ],
            "application/vnd.google.colaboratory.intrinsic+json": {
              "type": "string"
            }
          },
          "metadata": {},
          "execution_count": 21
        }
      ]
    },
    {
      "cell_type": "code",
      "source": [
        "#FIRST NON-REPEATING CHARACTER IN A STRING\n",
        "\n",
        "#dictionary is not supporting insertion.\n",
        "s='NETSETOSQNET'\n",
        "d={}\n",
        "size=len(s)\n",
        "for i in range(size):\n",
        "  key=s[i]\n",
        "  if key not in d:\n",
        "    d[key]=1\n",
        "  else:\n",
        "    d[key]+=1\n",
        "for key,value in d.items():\n",
        "  if value==1:\n",
        "    print(key)\n",
        "    break\n",
        "  \n"
      ],
      "metadata": {
        "colab": {
          "base_uri": "https://localhost:8080/"
        },
        "id": "Kt17cP7hZuRH",
        "outputId": "52a5283c-4fde-4278-ad56-4236be302b77"
      },
      "execution_count": null,
      "outputs": [
        {
          "output_type": "stream",
          "name": "stdout",
          "text": [
            "O\n"
          ]
        }
      ]
    },
    {
      "cell_type": "code",
      "source": [
        "#Excel column number [ LEETCODE 171 ]\n",
        "ord('I'),chr(73)"
      ],
      "metadata": {
        "id": "RLkpMMlzbWhq",
        "colab": {
          "base_uri": "https://localhost:8080/"
        },
        "outputId": "8e3ffb68-82f9-4a61-ecb9-b2d51bdff7b4"
      },
      "execution_count": null,
      "outputs": [
        {
          "output_type": "execute_result",
          "data": {
            "text/plain": [
              "(73, 'I')"
            ]
          },
          "metadata": {},
          "execution_count": 41
        }
      ]
    },
    {
      "cell_type": "code",
      "source": [
        "l= [1, 3, 5, 3, 7, 9, 3]\n",
        "d={}\n",
        "for i in l:\n",
        "  if i not in d.keys():\n",
        "    d[i]=0\n",
        "  d[i]=d[i]+1\n",
        "d\n",
        "\n",
        "for i,j in d.items():\n",
        "  if i==3:\n",
        "    print(j)\n"
      ],
      "metadata": {
        "id": "tu0fwzxlj4mN",
        "colab": {
          "base_uri": "https://localhost:8080/"
        },
        "outputId": "935077b5-8b23-4f84-9e8a-7976e706f7cb"
      },
      "execution_count": null,
      "outputs": [
        {
          "output_type": "stream",
          "name": "stdout",
          "text": [
            "3\n"
          ]
        }
      ]
    },
    {
      "cell_type": "code",
      "source": [
        "import math\n",
        "ciel(2.5)\n"
      ],
      "metadata": {
        "id": "aM2_EgTMyWn1",
        "colab": {
          "base_uri": "https://localhost:8080/",
          "height": 188
        },
        "outputId": "ee456163-2bc7-463c-8cb8-71717d056674"
      },
      "execution_count": null,
      "outputs": [
        {
          "output_type": "error",
          "ename": "NameError",
          "evalue": "ignored",
          "traceback": [
            "\u001b[0;31m---------------------------------------------------------------------------\u001b[0m",
            "\u001b[0;31mNameError\u001b[0m                                 Traceback (most recent call last)",
            "\u001b[0;32m<ipython-input-17-7b1adf741860>\u001b[0m in \u001b[0;36m<module>\u001b[0;34m\u001b[0m\n\u001b[1;32m      1\u001b[0m \u001b[0;32mimport\u001b[0m \u001b[0mmath\u001b[0m\u001b[0;34m\u001b[0m\u001b[0;34m\u001b[0m\u001b[0m\n\u001b[0;32m----> 2\u001b[0;31m \u001b[0mciel\u001b[0m\u001b[0;34m(\u001b[0m\u001b[0;36m2.5\u001b[0m\u001b[0;34m)\u001b[0m\u001b[0;34m\u001b[0m\u001b[0;34m\u001b[0m\u001b[0m\n\u001b[0m",
            "\u001b[0;31mNameError\u001b[0m: name 'ciel' is not defined"
          ]
        }
      ]
    },
    {
      "cell_type": "code",
      "source": [],
      "metadata": {
        "id": "8FdvQRF1qGvu"
      },
      "execution_count": null,
      "outputs": []
    }
  ]
}