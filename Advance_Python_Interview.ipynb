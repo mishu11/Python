{
  "nbformat": 4,
  "nbformat_minor": 0,
  "metadata": {
    "colab": {
      "provenance": [],
      "authorship_tag": "ABX9TyP9s4IPZGVztC1FREWvaLF8",
      "include_colab_link": true
    },
    "kernelspec": {
      "name": "python3",
      "display_name": "Python 3"
    },
    "language_info": {
      "name": "python"
    }
  },
  "cells": [
    {
      "cell_type": "markdown",
      "metadata": {
        "id": "view-in-github",
        "colab_type": "text"
      },
      "source": [
        "<a href=\"https://colab.research.google.com/github/mishu11/Python/blob/main/Advance_Python_Interview.ipynb\" target=\"_parent\"><img src=\"https://colab.research.google.com/assets/colab-badge.svg\" alt=\"Open In Colab\"/></a>"
      ]
    },
    {
      "cell_type": "code",
      "execution_count": null,
      "metadata": {
        "colab": {
          "base_uri": "https://localhost:8080/"
        },
        "id": "EzwWjgmWbbrg",
        "outputId": "5c0513e3-dbec-4643-b211-c57066d06a48"
      },
      "outputs": [
        {
          "output_type": "stream",
          "name": "stdout",
          "text": [
            "Aman\n"
          ]
        }
      ],
      "source": [
        "# HARRY PYTHON PROGRAMMING COURSE (ADVANCED)\n",
        "'''\n",
        "Exceptions in python can be handled using a try statement.\n",
        "'''\n",
        "print(\"Aman\")"
      ]
    },
    {
      "cell_type": "code",
      "source": [
        "while(True):\n",
        "  print(\"press q to quit\\n\")\n",
        "  a=input(\"Enter a number\")\n",
        "  if a=='q':\n",
        "    break\n",
        "  try:\n",
        "    a=int(a)\n",
        "    if a > 6:\n",
        "      print(\"greater than 6\")\n",
        "      break\n",
        "  except ZeroDivisionError:\n",
        "    print(f\"your input is not correct\")\n",
        "  finally:\n",
        "    print(\"Thanks for playing this game\")\n",
        "    "
      ],
      "metadata": {
        "colab": {
          "base_uri": "https://localhost:8080/"
        },
        "id": "6LGOlU2ybip4",
        "outputId": "bef6c9a9-e482-4a98-c770-0776a2607ecb"
      },
      "execution_count": null,
      "outputs": [
        {
          "output_type": "stream",
          "name": "stdout",
          "text": [
            "press q to quit\n",
            "\n",
            "Enter a number0\n",
            "Thanks for playing this game\n",
            "press q to quit\n",
            "\n",
            "Enter a number0000000000000\n",
            "Thanks for playing this game\n",
            "press q to quit\n",
            "\n",
            "Enter a number33\n",
            "greater than 6\n",
            "Thanks for playing this game\n"
          ]
        }
      ]
    },
    {
      "cell_type": "code",
      "source": [
        "'''\n",
        "if we are using exit fn or break in exception block than also\n",
        "finally runs.\n",
        "\n",
        "'''\n",
        "try:\n",
        "  i=int(input()) \n",
        "  c=1/i\n",
        "except Exception as e:\n",
        "  print(e) \n",
        "finally:\n",
        "  print(\"We are done\") #it will run regardless error\n"
      ],
      "metadata": {
        "colab": {
          "base_uri": "https://localhost:8080/"
        },
        "id": "KF0-I4ROcVB8",
        "outputId": "25aeefe4-1cff-45ef-b10c-8cda7ad85da6"
      },
      "execution_count": null,
      "outputs": [
        {
          "output_type": "stream",
          "name": "stdout",
          "text": [
            "hjhjj\n",
            "invalid literal for int() with base 10: 'hjhjj'\n",
            "We are done\n"
          ]
        }
      ]
    },
    {
      "cell_type": "code",
      "source": [
        "#file name is m_06\n",
        "def greet(name):\n",
        "  print(f\"Good Morning,{name}\")\n",
        "\n",
        "\n",
        "if __name__==\"__main__\":\n",
        "  name=input(\"Enter a name\")\n",
        "  greet(name)\n",
        "\n",
        "#i want to use this fn in another file.\n",
        "'''\n",
        "if __name__==\"__main__\": is ka matlab hai ki jab apan ye file run \n",
        "kahi or import karee toh ye run nahi hoga.Agar me ye file idhar hi run karu jha wo file hai\n",
        "toh wo run hojayega\n",
        "'''\n",
        "#below code is of new file\n",
        "# import  m_06\n",
        "# m_06.greet()\n",
        "\n",
        "\n",
        "\n"
      ],
      "metadata": {
        "colab": {
          "base_uri": "https://localhost:8080/",
          "height": 108
        },
        "id": "KozRtSv4jp6S",
        "outputId": "ab697600-a7b5-4610-e973-bdfcc8cc2eb2"
      },
      "execution_count": null,
      "outputs": [
        {
          "output_type": "stream",
          "name": "stdout",
          "text": [
            "Enter a nameaman\n",
            "Good Morning,aman\n"
          ]
        },
        {
          "output_type": "execute_result",
          "data": {
            "text/plain": [
              "'\\nif __name__==\"__main__\": is ka matlab hai ki jab apan ye file run \\nkahi or import karee toh ye run nahi hoga.Agar me ye file idhar hi run karu jha wo file hai\\ntoh wo run hojayega\\n'"
            ],
            "application/vnd.google.colaboratory.intrinsic+json": {
              "type": "string"
            }
          },
          "metadata": {},
          "execution_count": 5
        }
      ]
    },
    {
      "cell_type": "code",
      "source": [
        "#Global keyword and Local \n",
        "\n",
        "#local and global\n",
        "a=45 #global variable\n",
        "def func1():\n",
        "  global a \n",
        "  print(a)\n",
        "  a=902 #local variable\n",
        "  print(a)\n",
        "  \n",
        "func1()\n",
        "a=34\n",
        "print(a)"
      ],
      "metadata": {
        "colab": {
          "base_uri": "https://localhost:8080/"
        },
        "id": "Saik5qKhkiUx",
        "outputId": "c93613ea-1d96-4ca6-eae6-0299b471a8da"
      },
      "execution_count": null,
      "outputs": [
        {
          "output_type": "stream",
          "name": "stdout",
          "text": [
            "45\n",
            "902\n",
            "34\n"
          ]
        }
      ]
    },
    {
      "cell_type": "code",
      "source": [
        "#Enumerate fn\n",
        "list1=[3,4,'asd',34]\n",
        "for item in list1:\n",
        "  print(item)\n",
        "print(\"-------------\")\n",
        "for index,item in enumerate(list1):\n",
        "  print(index,item)"
      ],
      "metadata": {
        "colab": {
          "base_uri": "https://localhost:8080/"
        },
        "id": "bSJnZCdzmlSc",
        "outputId": "0d25a300-eece-4cb9-ec09-f1a44ef2d1bf"
      },
      "execution_count": null,
      "outputs": [
        {
          "output_type": "stream",
          "name": "stdout",
          "text": [
            "3\n",
            "4\n",
            "asd\n",
            "34\n",
            "-------------\n",
            "0 3\n",
            "1 4\n",
            "2 asd\n",
            "3 34\n"
          ]
        }
      ]
    },
    {
      "cell_type": "code",
      "source": [
        "#List Comprehension-->its way to write list from a existing list\n",
        "\n",
        "a=[3,4,5,6,7,8,74,3,32]\n",
        "b=[i for i in a if i%2==0]\n",
        "print(b)"
      ],
      "metadata": {
        "colab": {
          "base_uri": "https://localhost:8080/"
        },
        "id": "pyT1fdCsoGUx",
        "outputId": "c7e507a6-9a9e-4994-a750-c6482701e812"
      },
      "execution_count": null,
      "outputs": [
        {
          "output_type": "stream",
          "name": "stdout",
          "text": [
            "[4, 6, 8, 74, 32]\n"
          ]
        }
      ]
    },
    {
      "cell_type": "code",
      "source": [
        "s={i for i in a}\n",
        "print(s)"
      ],
      "metadata": {
        "colab": {
          "base_uri": "https://localhost:8080/"
        },
        "id": "x25ZUTQgo0Ak",
        "outputId": "d1fc34c3-ed6a-4033-f884-4b965cbdc0d9"
      },
      "execution_count": null,
      "outputs": [
        {
          "output_type": "stream",
          "name": "stdout",
          "text": [
            "{32, 3, 4, 5, 6, 7, 8, 74}\n"
          ]
        }
      ]
    },
    {
      "cell_type": "code",
      "source": [
        "l=[1,2,3,4,5,6,7,8]\n",
        "for i,j in enumerate(l):\n",
        "  if i==2 or i==4 or i==6:\n",
        "    print(i,j)"
      ],
      "metadata": {
        "colab": {
          "base_uri": "https://localhost:8080/"
        },
        "id": "FOigzZzDpSyv",
        "outputId": "fc884205-6f97-45bf-adbf-0996aed724cc"
      },
      "execution_count": null,
      "outputs": [
        {
          "output_type": "stream",
          "name": "stdout",
          "text": [
            "2 3\n",
            "4 5\n",
            "6 7\n"
          ]
        }
      ]
    },
    {
      "cell_type": "code",
      "source": [
        "num=int(input())\n",
        "l=[i*num for i in range(1,11)]\n",
        "print(l)"
      ],
      "metadata": {
        "colab": {
          "base_uri": "https://localhost:8080/"
        },
        "id": "XuZ80gKcpn0c",
        "outputId": "0ae9d307-e29f-4545-d59a-0d4f5e2f21d6"
      },
      "execution_count": null,
      "outputs": [
        {
          "output_type": "stream",
          "name": "stdout",
          "text": [
            "5\n",
            "[5, 10, 15, 20, 25, 30, 35, 40, 45, 50]\n"
          ]
        }
      ]
    },
    {
      "cell_type": "code",
      "source": [
        "a=int(input())\n",
        "b=int(input())\n",
        "try:\n",
        "  print(a/b)\n",
        "except:\n",
        "  print(\"Infinite\")\n",
        "finally:\n",
        "  print(\"finally\")"
      ],
      "metadata": {
        "colab": {
          "base_uri": "https://localhost:8080/"
        },
        "id": "PlXt_LJdqLXH",
        "outputId": "6ff8208c-2b0f-4c89-a735-c0c81c73d92d"
      },
      "execution_count": null,
      "outputs": [
        {
          "output_type": "stream",
          "name": "stdout",
          "text": [
            "34\n",
            "0\n",
            "Infinite\n",
            "finally\n"
          ]
        }
      ]
    },
    {
      "cell_type": "code",
      "source": [
        "#Chapter 13\n",
        "#lambda functions-->Ther are called as Anonymous fn\n",
        "def func(a):\n",
        "  return a \n",
        "a=34\n",
        "print(func(a))\n",
        "\n",
        "sq=lambda a:a*a\n",
        "sum=lambda x,y:x+y\n",
        "print(sq(10),sum(10,40))\n"
      ],
      "metadata": {
        "colab": {
          "base_uri": "https://localhost:8080/"
        },
        "id": "jtxvnXg9rC-i",
        "outputId": "f04d94b5-7902-4c28-b640-46939f884030"
      },
      "execution_count": null,
      "outputs": [
        {
          "output_type": "stream",
          "name": "stdout",
          "text": [
            "34\n",
            "100 50\n"
          ]
        }
      ]
    },
    {
      "cell_type": "code",
      "source": [
        "#Join methods in String\n",
        "l=[\"Aman\",\"Ahmed\",\"Mishu\"]\n",
        "k=\" and \".join(l)\n",
        "print(k)\n",
        "\n",
        "#split\n",
        "k2=k.split(\"and\")\n",
        "print(k2)\n",
        "\n",
        "#format\n",
        "name=\"Aman Ahmed\"\n",
        "pet=\"Mishu\"\n",
        "#index starts from 0\n",
        "a=\"This is {1} {0}\".format(name,pet)\n",
        "print(a)\n"
      ],
      "metadata": {
        "colab": {
          "base_uri": "https://localhost:8080/"
        },
        "id": "fBnIUfqf0O9D",
        "outputId": "13c950f1-6dae-430b-9db7-fed334da53e6"
      },
      "execution_count": null,
      "outputs": [
        {
          "output_type": "stream",
          "name": "stdout",
          "text": [
            "Aman and Ahmed and Mishu\n",
            "['Aman ', ' Ahmed ', ' Mishu']\n",
            "This is Mishu Aman Ahmed\n"
          ]
        }
      ]
    },
    {
      "cell_type": "code",
      "source": [
        "#Map-->ek fn ko saare list ke items par apply karnaa hai\n",
        "def  sq(num):\n",
        "  return num*num \n",
        "l=[1,2,3]\n",
        "print(list(map(sq,l)))"
      ],
      "metadata": {
        "colab": {
          "base_uri": "https://localhost:8080/"
        },
        "id": "lLJdWyxZ2mEI",
        "outputId": "d81428b4-f171-475e-944c-3cd499148445"
      },
      "execution_count": null,
      "outputs": [
        {
          "output_type": "stream",
          "name": "stdout",
          "text": [
            "[1, 4, 9]\n"
          ]
        }
      ]
    },
    {
      "cell_type": "code",
      "source": [
        "#Filter syntasx:list(filter(function,list))\n",
        "def greater_than_5(num):\n",
        "  if num>5:\n",
        "    return True \n",
        "  else:\n",
        "    return False\n",
        "\n",
        "\n",
        "l=[1,22,4,55,100,34,56,9,2,4]\n",
        "g10=lambda num:num>10\n",
        "print(list(filter(greater_than_5,l)))\n",
        "print(list(filter(g10,l)))\n"
      ],
      "metadata": {
        "colab": {
          "base_uri": "https://localhost:8080/"
        },
        "id": "f2LYanP74StS",
        "outputId": "3ff39599-b6c7-4d34-8543-55db4d6461cd"
      },
      "execution_count": null,
      "outputs": [
        {
          "output_type": "stream",
          "name": "stdout",
          "text": [
            "[22, 55, 100, 34, 56, 9]\n",
            "[22, 55, 100, 34, 56]\n"
          ]
        }
      ]
    },
    {
      "cell_type": "code",
      "source": [
        "#Reduce\n",
        "from functools import reduce \n",
        "#def sum(a,b):return a+b\n",
        "sum=lambda a,b:a+b\n",
        "\n",
        "l=[1,2,3,4,5]\n",
        "val=reduce(sum,l)\n",
        "print(val)"
      ],
      "metadata": {
        "colab": {
          "base_uri": "https://localhost:8080/"
        },
        "id": "K0Umett71JHz",
        "outputId": "9c96d0f0-6883-4393-c754-191240ce0bbd"
      },
      "execution_count": null,
      "outputs": [
        {
          "output_type": "stream",
          "name": "stdout",
          "text": [
            "15\n"
          ]
        }
      ]
    },
    {
      "cell_type": "code",
      "source": [
        "name=input()\n",
        "marks=int(input())\n",
        "phone_no=int(input())\n",
        "print(\"The name of the student is {}, his marks is {} and his phone number is {}\".format(name,marks,phone_no))"
      ],
      "metadata": {
        "colab": {
          "base_uri": "https://localhost:8080/"
        },
        "id": "Nvra18S22UrH",
        "outputId": "3258055f-44ec-4b36-baf8-767891eaa656"
      },
      "execution_count": null,
      "outputs": [
        {
          "output_type": "stream",
          "name": "stdout",
          "text": [
            "kjk\n",
            "9\n",
            "98765432\n",
            "The name of the student is kjk, his marks is 9 and his phone number is 98765432\n"
          ]
        }
      ]
    },
    {
      "cell_type": "code",
      "source": [
        " l=[str(i*7) for i in range(1,11)]\n",
        " #list ke content integers the jisse hua kya ki wo join nahi ho paa raha hai kyunki wo string hai toh humme change karna padega ki usko str format\n",
        " print(l)\n",
        " vertical=\"\\n\".join(l)\n",
        " print(vertical)"
      ],
      "metadata": {
        "colab": {
          "base_uri": "https://localhost:8080/"
        },
        "id": "bPkrWMTv4dXV",
        "outputId": "fd45a36a-94ab-439d-a3ee-0ec306eea683"
      },
      "execution_count": null,
      "outputs": [
        {
          "output_type": "stream",
          "name": "stdout",
          "text": [
            "['7', '14', '21', '28', '35', '42', '49', '56', '63', '70']\n",
            "7\n",
            "14\n",
            "21\n",
            "28\n",
            "35\n",
            "42\n",
            "49\n",
            "56\n",
            "63\n",
            "70\n"
          ]
        }
      ]
    },
    {
      "cell_type": "code",
      "source": [
        "def div_5(num):\n",
        "  if num%5==0:\n",
        "    return True\n",
        "  else:\n",
        "    return False\n",
        "l=[22,33,40,50,10,32,45,900]\n",
        "\n",
        "print(filter(div_5,l))\n",
        "\n",
        "ans=list(filter(div_5,l))\n",
        "print(ans)\n",
        "\n",
        "ans2=list(filter(lambda a:a%5==0,l))\n",
        "print(ans2)"
      ],
      "metadata": {
        "colab": {
          "base_uri": "https://localhost:8080/"
        },
        "id": "6NCjD32S5_GB",
        "outputId": "2f2173a0-715e-4eb9-8dd2-cc849aabf95c"
      },
      "execution_count": null,
      "outputs": [
        {
          "output_type": "stream",
          "name": "stdout",
          "text": [
            "<filter object at 0x7f1408baea50>\n",
            "[40, 50, 10, 45, 900]\n",
            "[40, 50, 10, 45, 900]\n"
          ]
        }
      ]
    },
    {
      "cell_type": "code",
      "source": [
        "import math\n",
        "math.floor(2.8)"
      ],
      "metadata": {
        "id": "bes72KGE6yYv",
        "colab": {
          "base_uri": "https://localhost:8080/"
        },
        "outputId": "b061078c-a77e-4ad6-e674-91fbd7df50c9"
      },
      "execution_count": null,
      "outputs": [
        {
          "output_type": "execute_result",
          "data": {
            "text/plain": [
              "2"
            ]
          },
          "metadata": {},
          "execution_count": 4
        }
      ]
    },
    {
      "cell_type": "code",
      "source": [],
      "metadata": {
        "id": "srFEjfIHqDc6"
      },
      "execution_count": null,
      "outputs": []
    }
  ]
}