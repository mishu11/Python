{
  "nbformat": 4,
  "nbformat_minor": 0,
  "metadata": {
    "colab": {
      "provenance": [],
      "authorship_tag": "ABX9TyOueshHTNWpKVfKlg/kTPTO",
      "include_colab_link": true
    },
    "kernelspec": {
      "name": "python3",
      "display_name": "Python 3"
    },
    "language_info": {
      "name": "python"
    }
  },
  "cells": [
    {
      "cell_type": "markdown",
      "metadata": {
        "id": "view-in-github",
        "colab_type": "text"
      },
      "source": [
        "<a href=\"https://colab.research.google.com/github/mishu11/Python/blob/main/Advance_Python_Interview_.ipynb\" target=\"_parent\"><img src=\"https://colab.research.google.com/assets/colab-badge.svg\" alt=\"Open In Colab\"/></a>"
      ]
    },
    {
      "cell_type": "code",
      "execution_count": null,
      "metadata": {
        "colab": {
          "base_uri": "https://localhost:8080/"
        },
        "id": "SyPo0lfqfbDS",
        "outputId": "879653f2-fdb1-4233-d19d-e9dfbbe7d501"
      },
      "outputs": [
        {
          "output_type": "stream",
          "name": "stdout",
          "text": [
            "Enter stringaman ahmed aman\n",
            "{'aman': 2, 'ahmed': 1}\n"
          ]
        }
      ],
      "source": [
        "'''\n",
        "But the statement that “Everything in Python is an object” \n",
        "means in the sense that it can be assigned to a variable or\n",
        "passed as an argument to a function. So the objects are the\n",
        "building blocks of an object-oriented program, as the program\n",
        "that uses object-oriented technology is basically a collection \n",
        "of objects. Hence programmes written in python is also a collection \n",
        "of these objects in the form of variables. So it is important to\n",
        "revise that everything in Python objects it means that the strings\n",
        "are objects, Lists are objects, Functions are objects and Even \n",
        "modules are also objects.\n",
        "\n",
        "\n",
        "'''\n",
        "#WATCH SORTING\n",
        "\n",
        "#frequency of words\n",
        "def freq_word(s):\n",
        "  s=s.split()\n",
        "  d={}\n",
        "  for i in s:\n",
        "    if i not in d.keys():\n",
        "      d[i]=0\n",
        "    d[i]+=1\n",
        "  return d\n",
        "\n",
        "s=input('Enter string')\n",
        "print(freq_word(s))\n",
        "\n",
        "\n",
        "\n"
      ]
    },
    {
      "cell_type": "code",
      "source": [
        "#Remove Duplicates\n",
        "s='aaabbbcasc'\n",
        "d={}\n",
        "for i in s:\n",
        "  d[i]=0\n",
        "print(''.join(d))"
      ],
      "metadata": {
        "colab": {
          "base_uri": "https://localhost:8080/"
        },
        "id": "uxZugBiWrP1p",
        "outputId": "0ea6f1ba-5cbb-46a4-ec0e-21591971e386"
      },
      "execution_count": null,
      "outputs": [
        {
          "output_type": "stream",
          "name": "stdout",
          "text": [
            "abcs\n"
          ]
        }
      ]
    },
    {
      "cell_type": "code",
      "source": [
        "#conversion of 2 list into dic\n",
        "l1=['a','b','c']\n",
        "l2=['aa','bb','cc']\n",
        "k=dict(zip(l1,l2))\n",
        "k"
      ],
      "metadata": {
        "colab": {
          "base_uri": "https://localhost:8080/"
        },
        "id": "iUIJlkMZsIph",
        "outputId": "5a9fa6e6-2ba6-4b18-b656-dbe4dfa36031"
      },
      "execution_count": null,
      "outputs": [
        {
          "output_type": "execute_result",
          "data": {
            "text/plain": [
              "{'a': 'aa', 'b': 'bb', 'c': 'cc'}"
            ]
          },
          "metadata": {},
          "execution_count": 9
        }
      ]
    },
    {
      "cell_type": "code",
      "source": [
        "#Find out pairs with given sum in array\n",
        "def fn(a,t):\n",
        "  for i in range(0,len(a)-1):\n",
        "    for j in range(i+1,len(a)):\n",
        "      if a[i]+a[j]==t:\n",
        "        print(a[i],a[j])\n",
        "   \n",
        "a=[-5,1,-40,20,6,8,7]\n",
        "target=15\n",
        "fn(a,target)\n",
        "\n",
        "def fn(a,t):\n",
        "  i=0\n",
        "  j=len(a)-1\n",
        "  while(i<j):\n",
        "    if a[i]+a[j]==t:\n",
        "      print(a[i],a[j])\n",
        "    if a[i]+a[j]>t:\n",
        "      j=j-1\n",
        "    else:\n",
        "      i=i+1\n",
        "\n",
        "\n",
        "a=[-40,-5,1,6,7,8,20]\n",
        "target=15\n",
        "fn(a,target)\n",
        "\n",
        "\n",
        "\n"
      ],
      "metadata": {
        "colab": {
          "base_uri": "https://localhost:8080/"
        },
        "id": "8FUfrz-NtL5F",
        "outputId": "66777223-fea2-40a2-c5ff-9c395b78a13a"
      },
      "execution_count": null,
      "outputs": [
        {
          "output_type": "stream",
          "name": "stdout",
          "text": [
            "-5 20\n",
            "8 7\n",
            "-5 20\n",
            "7 8\n"
          ]
        }
      ]
    },
    {
      "cell_type": "code",
      "source": [
        "#Find the minimum difference b/w 2 elements of array\n",
        "arr=[10,32,45,4,12,11,18,25] #4,5,12,18,25,\n",
        "arr.sort()\n",
        "min_diff = 1000000\n",
        "\n",
        "for i in range(len(arr)-1):\n",
        "  if arr[i+1] - arr[i] < min_diff:\n",
        "    min_diff = arr[i+1] - arr[i]\n",
        "\n",
        "print(min_diff)\n"
      ],
      "metadata": {
        "colab": {
          "base_uri": "https://localhost:8080/"
        },
        "id": "4-F73c2qxz_V",
        "outputId": "1cb79aed-a603-4fd4-b50c-37c0dba7773c"
      },
      "execution_count": null,
      "outputs": [
        {
          "output_type": "stream",
          "name": "stdout",
          "text": [
            "1\n"
          ]
        }
      ]
    },
    {
      "cell_type": "code",
      "source": [
        "#Remoce duplicates from sorted array\n",
        "arr=[1,1,2,2,2,3,3,3,4,4,4]\n",
        "n=len(arr)\n",
        "if n==1 or n==0:\n",
        "  print(1)\n",
        "temp=[0]*n\n",
        "p=0\n",
        "for i in range(n-1):\n",
        "  if arr[i]!=arr[i+1]:\n",
        "    temp[p]=arr[i]\n",
        "    p+=1\n",
        "temp[p]=arr[n-1]\n",
        "temp[0:p+1]"
      ],
      "metadata": {
        "colab": {
          "base_uri": "https://localhost:8080/"
        },
        "id": "a_HABZU8khoZ",
        "outputId": "1f2a0c67-7b41-4d53-ee1a-6d0348829524"
      },
      "execution_count": null,
      "outputs": [
        {
          "output_type": "execute_result",
          "data": {
            "text/plain": [
              "[1, 2, 3, 4]"
            ]
          },
          "metadata": {},
          "execution_count": 2
        }
      ]
    },
    {
      "cell_type": "code",
      "source": [
        "#Maximum Sum subarray\n",
        "a=[4-3,-2,2,3,1,-2,-3,6,-6,-4,2,1]\n",
        "curr_sum=0\n",
        "maxfarsum=arr[0]\n",
        "for i in range(0,len(a)):\n",
        "  curr_sum=curr_sum+arr[i]\n",
        "  if maxfarsum<curr_sum:\n",
        "    maxfarsum=curr_sum\n",
        "  if curr_sum<0:\n",
        "    curr_sum=0\n",
        "maxfarsum\n"
      ],
      "metadata": {
        "colab": {
          "base_uri": "https://localhost:8080/"
        },
        "id": "EcWvuxR3lYnz",
        "outputId": "56d33cc9-ef00-43e1-92cc-0add94db702c"
      },
      "execution_count": null,
      "outputs": [
        {
          "output_type": "execute_result",
          "data": {
            "text/plain": [
              "7"
            ]
          },
          "metadata": {},
          "execution_count": 14
        }
      ]
    },
    {
      "cell_type": "code",
      "source": [
        "#Binary Search  \n",
        "def bs(ll,target):\n",
        "  i=0\n",
        "  j=len(ll)-1\n",
        "  target=12\n",
        "  while(i<j):\n",
        "    mid=int((i+j)/2)\n",
        "    if ll[mid]==target:\n",
        "      return mid,ll[mid]\n",
        "    elif ll[mid]>target:\n",
        "      j=j-1\n",
        "    else:\n",
        "      i=i+1\n",
        "\n",
        "    \n",
        "ll=[4,7,8,12,45,99]\n",
        "target=12\n",
        "print(bs(ll,target))\n",
        "\n"
      ],
      "metadata": {
        "colab": {
          "base_uri": "https://localhost:8080/"
        },
        "id": "Y9FmEHl9oWlT",
        "outputId": "5bedd59f-d2dd-4927-fe8b-4ec0320820fe"
      },
      "execution_count": null,
      "outputs": [
        {
          "output_type": "stream",
          "name": "stdout",
          "text": [
            "(3, 12)\n"
          ]
        }
      ]
    },
    {
      "cell_type": "code",
      "source": [
        "def fn(arr,s):\n",
        "  i=0\n",
        "  j=len(arr)-1\n",
        "  for i in range(len(arr)):\n",
        "    if arr[i]+arr[j]==s:\n",
        "        print(arr[i],arr[j])\n",
        "    elif arr[i]+arr[j]>s:\n",
        "      j=j-1\n",
        "    else:\n",
        "      i=i+1\n",
        "arr=[5,7,4,3,9,8,19,21]\n",
        "fn(arr,17)\n"
      ],
      "metadata": {
        "colab": {
          "base_uri": "https://localhost:8080/"
        },
        "id": "cE8N3N7QwWvf",
        "outputId": "75365a1a-9060-4d3b-a1c3-a9c706811ec0"
      },
      "execution_count": null,
      "outputs": [
        {
          "output_type": "stream",
          "name": "stdout",
          "text": [
            "9 8\n"
          ]
        }
      ]
    },
    {
      "cell_type": "code",
      "source": [
        "arr=[10,32,45,4,12,18,25]\n",
        "arr.sort()\n",
        "i=0\n",
        "minn=10000000\n",
        "for i in range(len(arr)-1):  \n",
        "  if arr[i+1]-arr[i]<minn:\n",
        "    minn=arr[i+1]-arr[i]\n",
        "print(minn)\n"
      ],
      "metadata": {
        "colab": {
          "base_uri": "https://localhost:8080/"
        },
        "id": "GOAK5urv5uXo",
        "outputId": "f42f4edc-35c3-4285-de74-b17001a3267d"
      },
      "execution_count": null,
      "outputs": [
        {
          "output_type": "stream",
          "name": "stdout",
          "text": [
            "2\n"
          ]
        }
      ]
    },
    {
      "cell_type": "code",
      "source": [
        "arr=[10,32,45,4,12,18,25]\n",
        "arr.sort()\n",
        "i=0\n",
        "maxx=-9999999\n",
        "for i in range(len(arr)-1):  \n",
        "  if arr[i+1]-arr[i]>maxx:\n",
        "    maxx=arr[i+1]-arr[i]\n",
        "print(maxx)"
      ],
      "metadata": {
        "colab": {
          "base_uri": "https://localhost:8080/"
        },
        "id": "acgZNF046ZG-",
        "outputId": "37692583-2d12-4d5d-89e3-d9a7c011e397"
      },
      "execution_count": null,
      "outputs": [
        {
          "output_type": "stream",
          "name": "stdout",
          "text": [
            "13\n"
          ]
        }
      ]
    },
    {
      "cell_type": "code",
      "source": [
        "#Wave Array\n",
        "def fn(arr):\n",
        "  for i in range(len(arr)-1,2):\n",
        "    if arr[i-1]>arr[i]:\n",
        "      arr[i-1],arr[i]=arr[i],arr[i-1]\n",
        "    if arr[i]<arr[i+1]:\n",
        "      arr[i],arr[i+1]=arr[i],arr[i+1]\n",
        "    return arr\n",
        "arr=[3,5,12,2,6,7,9,8]\n",
        "print(fn(arr))\n",
        "\n"
      ],
      "metadata": {
        "colab": {
          "base_uri": "https://localhost:8080/"
        },
        "id": "hG91Rv3n62C7",
        "outputId": "45f2e666-6170-447d-afa9-c0f3b0091bb9"
      },
      "execution_count": null,
      "outputs": [
        {
          "output_type": "stream",
          "name": "stdout",
          "text": [
            "None\n"
          ]
        }
      ]
    },
    {
      "cell_type": "code",
      "source": [
        "#remove duplicates in a sorted arr\n",
        "def fn(arr):\n",
        "  d={}\n",
        "  for i in arr:\n",
        "    if i not in d.keys():\n",
        "      d[i]=0\n",
        "    d[i]+=1\n",
        "    \n",
        "  return d\n",
        "arr=[1,1,2,2,2,3,4,4,4]\n",
        "fn(arr)\n",
        "  "
      ],
      "metadata": {
        "colab": {
          "base_uri": "https://localhost:8080/",
          "height": 339
        },
        "id": "SXPu6o1q8l1Q",
        "outputId": "f0fb741c-ed13-499e-b631-ee46390d33f3"
      },
      "execution_count": null,
      "outputs": [
        {
          "output_type": "error",
          "ename": "RuntimeError",
          "evalue": "ignored",
          "traceback": [
            "\u001b[0;31m---------------------------------------------------------------------------\u001b[0m",
            "\u001b[0;31mRuntimeError\u001b[0m                              Traceback (most recent call last)",
            "\u001b[0;32m<ipython-input-49-b0e0ca25f377>\u001b[0m in \u001b[0;36m<module>\u001b[0;34m\u001b[0m\n\u001b[1;32m     11\u001b[0m   \u001b[0;32mreturn\u001b[0m \u001b[0md\u001b[0m\u001b[0;34m\u001b[0m\u001b[0;34m\u001b[0m\u001b[0m\n\u001b[1;32m     12\u001b[0m \u001b[0marr\u001b[0m\u001b[0;34m=\u001b[0m\u001b[0;34m[\u001b[0m\u001b[0;36m1\u001b[0m\u001b[0;34m,\u001b[0m\u001b[0;36m1\u001b[0m\u001b[0;34m,\u001b[0m\u001b[0;36m2\u001b[0m\u001b[0;34m,\u001b[0m\u001b[0;36m2\u001b[0m\u001b[0;34m,\u001b[0m\u001b[0;36m2\u001b[0m\u001b[0;34m,\u001b[0m\u001b[0;36m3\u001b[0m\u001b[0;34m,\u001b[0m\u001b[0;36m4\u001b[0m\u001b[0;34m,\u001b[0m\u001b[0;36m4\u001b[0m\u001b[0;34m,\u001b[0m\u001b[0;36m4\u001b[0m\u001b[0;34m]\u001b[0m\u001b[0;34m\u001b[0m\u001b[0;34m\u001b[0m\u001b[0m\n\u001b[0;32m---> 13\u001b[0;31m \u001b[0mfn\u001b[0m\u001b[0;34m(\u001b[0m\u001b[0marr\u001b[0m\u001b[0;34m)\u001b[0m\u001b[0;34m\u001b[0m\u001b[0;34m\u001b[0m\u001b[0m\n\u001b[0m\u001b[1;32m     14\u001b[0m \u001b[0;34m\u001b[0m\u001b[0m\n",
            "\u001b[0;32m<ipython-input-49-b0e0ca25f377>\u001b[0m in \u001b[0;36mfn\u001b[0;34m(arr)\u001b[0m\n\u001b[1;32m      6\u001b[0m       \u001b[0md\u001b[0m\u001b[0;34m[\u001b[0m\u001b[0mi\u001b[0m\u001b[0;34m]\u001b[0m\u001b[0;34m=\u001b[0m\u001b[0;36m0\u001b[0m\u001b[0;34m\u001b[0m\u001b[0;34m\u001b[0m\u001b[0m\n\u001b[1;32m      7\u001b[0m     \u001b[0md\u001b[0m\u001b[0;34m[\u001b[0m\u001b[0mi\u001b[0m\u001b[0;34m]\u001b[0m\u001b[0;34m+=\u001b[0m\u001b[0;36m1\u001b[0m\u001b[0;34m\u001b[0m\u001b[0;34m\u001b[0m\u001b[0m\n\u001b[0;32m----> 8\u001b[0;31m   \u001b[0;32mfor\u001b[0m \u001b[0mi\u001b[0m \u001b[0;32min\u001b[0m \u001b[0md\u001b[0m\u001b[0;34m.\u001b[0m\u001b[0mvalues\u001b[0m\u001b[0;34m(\u001b[0m\u001b[0;34m)\u001b[0m\u001b[0;34m:\u001b[0m\u001b[0;34m\u001b[0m\u001b[0;34m\u001b[0m\u001b[0m\n\u001b[0m\u001b[1;32m      9\u001b[0m     \u001b[0;32mif\u001b[0m \u001b[0mi\u001b[0m\u001b[0;34m>\u001b[0m\u001b[0;36m1\u001b[0m\u001b[0;34m:\u001b[0m\u001b[0;34m\u001b[0m\u001b[0;34m\u001b[0m\u001b[0m\n\u001b[1;32m     10\u001b[0m       \u001b[0md\u001b[0m\u001b[0;34m.\u001b[0m\u001b[0mpop\u001b[0m\u001b[0;34m(\u001b[0m\u001b[0mi\u001b[0m\u001b[0;34m)\u001b[0m\u001b[0;34m\u001b[0m\u001b[0;34m\u001b[0m\u001b[0m\n",
            "\u001b[0;31mRuntimeError\u001b[0m: dictionary changed size during iteration"
          ]
        }
      ]
    },
    {
      "cell_type": "code",
      "source": [
        "def fn(arr):\n",
        "  temp=arr[0]*n\n",
        "  p=0\n",
        "  for i in range(0,len(arr)-1):\n",
        "    if arr[i]!=arr[i+1]:\n",
        "      temp[p]=arr[i]\n",
        "      p+=1\n",
        "  temp[p]=arr[n-1]\n",
        "  return temp[0:p+1]\n",
        "fn([1,1,2,2,3,4,4,4,5,5])\n",
        "\n"
      ],
      "metadata": {
        "colab": {
          "base_uri": "https://localhost:8080/",
          "height": 339
        },
        "id": "FtZlabUS-iee",
        "outputId": "528705ab-97a3-4301-acc6-caa73a4367fa"
      },
      "execution_count": null,
      "outputs": [
        {
          "output_type": "error",
          "ename": "TypeError",
          "evalue": "ignored",
          "traceback": [
            "\u001b[0;31m---------------------------------------------------------------------------\u001b[0m",
            "\u001b[0;31mTypeError\u001b[0m                                 Traceback (most recent call last)",
            "\u001b[0;32m<ipython-input-52-c88e0b0039e1>\u001b[0m in \u001b[0;36m<module>\u001b[0;34m\u001b[0m\n\u001b[1;32m      8\u001b[0m   \u001b[0mtemp\u001b[0m\u001b[0;34m[\u001b[0m\u001b[0mp\u001b[0m\u001b[0;34m]\u001b[0m\u001b[0;34m=\u001b[0m\u001b[0marr\u001b[0m\u001b[0;34m[\u001b[0m\u001b[0mn\u001b[0m\u001b[0;34m-\u001b[0m\u001b[0;36m1\u001b[0m\u001b[0;34m]\u001b[0m\u001b[0;34m\u001b[0m\u001b[0;34m\u001b[0m\u001b[0m\n\u001b[1;32m      9\u001b[0m   \u001b[0;32mreturn\u001b[0m \u001b[0mtemp\u001b[0m\u001b[0;34m[\u001b[0m\u001b[0;36m0\u001b[0m\u001b[0;34m:\u001b[0m\u001b[0mp\u001b[0m\u001b[0;34m+\u001b[0m\u001b[0;36m1\u001b[0m\u001b[0;34m]\u001b[0m\u001b[0;34m\u001b[0m\u001b[0;34m\u001b[0m\u001b[0m\n\u001b[0;32m---> 10\u001b[0;31m \u001b[0mfn\u001b[0m\u001b[0;34m(\u001b[0m\u001b[0;34m[\u001b[0m\u001b[0;36m1\u001b[0m\u001b[0;34m,\u001b[0m\u001b[0;36m1\u001b[0m\u001b[0;34m,\u001b[0m\u001b[0;36m2\u001b[0m\u001b[0;34m,\u001b[0m\u001b[0;36m2\u001b[0m\u001b[0;34m,\u001b[0m\u001b[0;36m3\u001b[0m\u001b[0;34m,\u001b[0m\u001b[0;36m4\u001b[0m\u001b[0;34m,\u001b[0m\u001b[0;36m4\u001b[0m\u001b[0;34m,\u001b[0m\u001b[0;36m4\u001b[0m\u001b[0;34m,\u001b[0m\u001b[0;36m5\u001b[0m\u001b[0;34m,\u001b[0m\u001b[0;36m5\u001b[0m\u001b[0;34m]\u001b[0m\u001b[0;34m)\u001b[0m\u001b[0;34m\u001b[0m\u001b[0;34m\u001b[0m\u001b[0m\n\u001b[0m\u001b[1;32m     11\u001b[0m \u001b[0;34m\u001b[0m\u001b[0m\n",
            "\u001b[0;32m<ipython-input-52-c88e0b0039e1>\u001b[0m in \u001b[0;36mfn\u001b[0;34m(arr)\u001b[0m\n\u001b[1;32m      4\u001b[0m   \u001b[0;32mfor\u001b[0m \u001b[0mi\u001b[0m \u001b[0;32min\u001b[0m \u001b[0mrange\u001b[0m\u001b[0;34m(\u001b[0m\u001b[0mlen\u001b[0m\u001b[0;34m(\u001b[0m\u001b[0marr\u001b[0m\u001b[0;34m)\u001b[0m\u001b[0;34m-\u001b[0m\u001b[0;36m1\u001b[0m\u001b[0;34m)\u001b[0m\u001b[0;34m:\u001b[0m\u001b[0;34m\u001b[0m\u001b[0;34m\u001b[0m\u001b[0m\n\u001b[1;32m      5\u001b[0m     \u001b[0;32mif\u001b[0m \u001b[0marr\u001b[0m\u001b[0;34m[\u001b[0m\u001b[0mi\u001b[0m\u001b[0;34m]\u001b[0m\u001b[0;34m!=\u001b[0m\u001b[0marr\u001b[0m\u001b[0;34m[\u001b[0m\u001b[0mi\u001b[0m\u001b[0;34m+\u001b[0m\u001b[0;36m1\u001b[0m\u001b[0;34m]\u001b[0m\u001b[0;34m:\u001b[0m\u001b[0;34m\u001b[0m\u001b[0;34m\u001b[0m\u001b[0m\n\u001b[0;32m----> 6\u001b[0;31m       \u001b[0mtemp\u001b[0m\u001b[0;34m[\u001b[0m\u001b[0mp\u001b[0m\u001b[0;34m]\u001b[0m\u001b[0;34m=\u001b[0m\u001b[0marr\u001b[0m\u001b[0;34m[\u001b[0m\u001b[0mi\u001b[0m\u001b[0;34m]\u001b[0m\u001b[0;34m\u001b[0m\u001b[0;34m\u001b[0m\u001b[0m\n\u001b[0m\u001b[1;32m      7\u001b[0m       \u001b[0mp\u001b[0m\u001b[0;34m+=\u001b[0m\u001b[0;36m1\u001b[0m\u001b[0;34m\u001b[0m\u001b[0;34m\u001b[0m\u001b[0m\n\u001b[1;32m      8\u001b[0m   \u001b[0mtemp\u001b[0m\u001b[0;34m[\u001b[0m\u001b[0mp\u001b[0m\u001b[0;34m]\u001b[0m\u001b[0;34m=\u001b[0m\u001b[0marr\u001b[0m\u001b[0;34m[\u001b[0m\u001b[0mn\u001b[0m\u001b[0;34m-\u001b[0m\u001b[0;36m1\u001b[0m\u001b[0;34m]\u001b[0m\u001b[0;34m\u001b[0m\u001b[0;34m\u001b[0m\u001b[0m\n",
            "\u001b[0;31mTypeError\u001b[0m: 'int' object does not support item assignment"
          ]
        }
      ]
    },
    {
      "cell_type": "code",
      "source": [
        "def fn(arr):\n",
        "  cs=0\n",
        "  maxfarrsum=arr[0]\n",
        "  for i in range(0,len(arr)):\n",
        "    cs=cs+arr[i]\n",
        "    if maxfarrsum<cs:\n",
        "      maxfarrsum=cs \n",
        "    if cs<0:\n",
        "      cs=0\n",
        "    return maxfarrsum\n",
        "arr=[4,-3,-2,2,3,1,-2,-3,6,-6,-4,2,1]\n",
        "print(fn(arr))"
      ],
      "metadata": {
        "colab": {
          "base_uri": "https://localhost:8080/"
        },
        "id": "wYgtR8Z6BF_E",
        "outputId": "c937146f-f6a7-45ab-a4e4-96e23212d114"
      },
      "execution_count": null,
      "outputs": [
        {
          "output_type": "stream",
          "name": "stdout",
          "text": [
            "4\n"
          ]
        }
      ]
    },
    {
      "cell_type": "code",
      "source": [
        "#Anagram fired,fried.......cat,tca\n",
        "a='fried'\n",
        "b='fired'\n",
        "s=0\n",
        "ss=0\n",
        "# ord()\n",
        "for i in a:\n",
        "  s+=ord(i)\n",
        "s\n",
        "for i in b:\n",
        "  ss+=ord(i)\n",
        "s==ss\n",
        "\n"
      ],
      "metadata": {
        "colab": {
          "base_uri": "https://localhost:8080/"
        },
        "id": "rmrcp8_YEKmp",
        "outputId": "b095a23d-5991-4105-f9b6-46b5ab086df6"
      },
      "execution_count": null,
      "outputs": [
        {
          "output_type": "execute_result",
          "data": {
            "text/plain": [
              "True"
            ]
          },
          "metadata": {},
          "execution_count": 6
        }
      ]
    },
    {
      "cell_type": "code",
      "source": [
        "arr=[1,3,2,4,5,3,22,11,10,223]\n",
        "maxx=-999999\n",
        "for i in range(len(arr)):\n",
        "  if arr[i]>maxx:\n",
        "    maxx=arr[i]\n",
        "maxx"
      ],
      "metadata": {
        "colab": {
          "base_uri": "https://localhost:8080/"
        },
        "id": "edwGPs0CGV5d",
        "outputId": "e582c2d6-7c7c-4577-855a-a533210706f8"
      },
      "execution_count": null,
      "outputs": [
        {
          "output_type": "execute_result",
          "data": {
            "text/plain": [
              "223"
            ]
          },
          "metadata": {},
          "execution_count": 62
        }
      ]
    },
    {
      "cell_type": "code",
      "source": [
        "#Find Rotation of String\n",
        "s='NETSET'\n",
        "temp=s+s\n",
        "for i in range(len(s)):\n",
        "  for j in range(len(s)):\n",
        "      print(temp[i+j],end='')\n",
        "  print()\n"
      ],
      "metadata": {
        "colab": {
          "base_uri": "https://localhost:8080/"
        },
        "id": "FG9pjqsfHkH6",
        "outputId": "7aa3a9c4-a811-43ba-e4a5-4b55742eecfb"
      },
      "execution_count": null,
      "outputs": [
        {
          "output_type": "stream",
          "name": "stdout",
          "text": [
            "NETSET\n",
            "ETSETN\n",
            "TSETNE\n",
            "SETNET\n",
            "ETNETS\n",
            "TNETSE\n"
          ]
        }
      ]
    },
    {
      "cell_type": "code",
      "source": [
        "#Check Rotation of string\n",
        "\n",
        "def check(s1,s2):\n",
        "  if len(s1)!=len(s2):\n",
        "    return False\n",
        "  s=s1+s2\n",
        "  print(s)\n",
        "  if s2 in s:\n",
        "    return True\n",
        "print(check('ANU','NUA'))\n"
      ],
      "metadata": {
        "colab": {
          "base_uri": "https://localhost:8080/"
        },
        "id": "iK5YJfmMIMki",
        "outputId": "55354890-d13b-4086-c11b-d9437a53eeac"
      },
      "execution_count": null,
      "outputs": [
        {
          "output_type": "stream",
          "name": "stdout",
          "text": [
            "ANUNUA\n",
            "True\n"
          ]
        }
      ]
    },
    {
      "cell_type": "code",
      "source": [
        "#First Non-Repeating Character\n",
        "#for frequency we use dictionary\n",
        "\n",
        "#Common elements in 2 list\n",
        "l1=[40,50,60,80]\n",
        "l2=[50,100,150,200]\n",
        "l3=[]\n",
        "for i in l1:\n",
        "  if i in l2:\n",
        "    l3.append(i)\n",
        "l3\n"
      ],
      "metadata": {
        "colab": {
          "base_uri": "https://localhost:8080/"
        },
        "id": "UHqcHzDWJ8tM",
        "outputId": "92e51900-442d-4729-a18c-87f8d3029416"
      },
      "execution_count": null,
      "outputs": [
        {
          "output_type": "execute_result",
          "data": {
            "text/plain": [
              "[50]"
            ]
          },
          "metadata": {},
          "execution_count": 10
        }
      ]
    },
    {
      "cell_type": "code",
      "source": [
        "def fn(a):\n",
        "  r=0\n",
        "  b=0\n",
        "  g=0\n",
        "  for i in a:\n",
        "    if i==1:\n",
        "      r+=1\n",
        "    elif i==2:\n",
        "      b+=1\n",
        "    else:\n",
        "      g+=1\n",
        "  return [1]*r+ [2]*g+ [3]*b\n",
        "a=[1,2,3,1,3,2,1,2,3,1]\n",
        "print(fn(a))\n"
      ],
      "metadata": {
        "colab": {
          "base_uri": "https://localhost:8080/"
        },
        "id": "XipEw-9_Mwb8",
        "outputId": "fa97e81d-59a1-4ac8-fad7-f7a760e92a1a"
      },
      "execution_count": null,
      "outputs": [
        {
          "output_type": "stream",
          "name": "stdout",
          "text": [
            "[1, 1, 1, 1, 2, 2, 2, 3, 3, 3]\n"
          ]
        }
      ]
    },
    {
      "cell_type": "code",
      "source": [
        "#Prime Number\n",
        "def fn(n):\n",
        "  for i in range(2,n):\n",
        "    if n%i==0:\n",
        "      return False \n",
        "  else:\n",
        "    return True\n",
        "\n",
        "fn(36)"
      ],
      "metadata": {
        "colab": {
          "base_uri": "https://localhost:8080/"
        },
        "id": "Zs3ir-eMVn25",
        "outputId": "1f7caae3-b05a-4fd3-9f60-031bc89b17eb"
      },
      "execution_count": null,
      "outputs": [
        {
          "output_type": "execute_result",
          "data": {
            "text/plain": [
              "False"
            ]
          },
          "metadata": {},
          "execution_count": 96
        }
      ]
    },
    {
      "cell_type": "code",
      "source": [
        "n  = 100\n",
        "for i in range(2,n):\n",
        "    for j in range(2,i):\n",
        "        if i % j == 0:\n",
        "            break       \n",
        "    else:\n",
        "        print(i)"
      ],
      "metadata": {
        "colab": {
          "base_uri": "https://localhost:8080/"
        },
        "id": "YOfkowhTXgp5",
        "outputId": "82fba826-7451-4c03-ff74-ffe55da32f88"
      },
      "execution_count": null,
      "outputs": [
        {
          "output_type": "stream",
          "name": "stdout",
          "text": [
            "2\n",
            "3\n",
            "5\n",
            "7\n",
            "11\n",
            "13\n",
            "17\n",
            "19\n",
            "23\n",
            "29\n",
            "31\n",
            "37\n",
            "41\n",
            "43\n",
            "47\n",
            "53\n",
            "59\n",
            "61\n",
            "67\n",
            "71\n",
            "73\n",
            "79\n",
            "83\n",
            "89\n",
            "97\n"
          ]
        }
      ]
    },
    {
      "cell_type": "code",
      "source": [
        "#Find Substring of a string\n",
        "\n",
        "a='Tanuj'\n",
        "print(len(a))\n",
        "b=list(a)\n",
        "for i in range(len(b)) :\n",
        "  for j in range(i+1,len(b)+1):\n",
        "    print(a[i:j])\n",
        "  "
      ],
      "metadata": {
        "colab": {
          "base_uri": "https://localhost:8080/"
        },
        "id": "NB03JdYhX0CX",
        "outputId": "7ead682f-7913-45d1-d962-c36ce4aefc7e"
      },
      "execution_count": null,
      "outputs": [
        {
          "output_type": "stream",
          "name": "stdout",
          "text": [
            "5\n",
            "T\n",
            "Ta\n",
            "Tan\n",
            "Tanu\n",
            "Tanuj\n",
            "a\n",
            "an\n",
            "anu\n",
            "anuj\n",
            "n\n",
            "nu\n",
            "nuj\n",
            "u\n",
            "uj\n",
            "j\n"
          ]
        }
      ]
    },
    {
      "cell_type": "code",
      "source": [
        "#generator function to generate fibonacci\n",
        "\n",
        "def fib(n):\n",
        "  a=0\n",
        "  b=1\n",
        "  for i in range(0,n):\n",
        "    c=a+b\n",
        "    print(c,end=' ')\n",
        "    a=b\n",
        "    b=c\n",
        "\n",
        " "
      ],
      "metadata": {
        "colab": {
          "base_uri": "https://localhost:8080/"
        },
        "id": "RqrUTCupZDUW",
        "outputId": "c518e9cc-3630-4acd-a957-cf8745ff3b52"
      },
      "execution_count": null,
      "outputs": [
        {
          "output_type": "stream",
          "name": "stdout",
          "text": [
            "1 2 3 5 8 13 21 34 55 89 144 233 377 610 987 1597 2584 4181 6765 10946 "
          ]
        }
      ]
    },
    {
      "cell_type": "code",
      "source": [
        "\n",
        "add=lambda a,b:a+b\n",
        "add(5,6)"
      ],
      "metadata": {
        "colab": {
          "base_uri": "https://localhost:8080/"
        },
        "id": "hAMotCiJfWgH",
        "outputId": "c5f48049-1f0e-4b77-bdf8-30e09a7db60e"
      },
      "execution_count": null,
      "outputs": [
        {
          "output_type": "execute_result",
          "data": {
            "text/plain": [
              "11"
            ]
          },
          "metadata": {},
          "execution_count": 1
        }
      ]
    },
    {
      "cell_type": "code",
      "source": [
        "a=[1,2,3,-2,-4,-5]\n",
        "a.sort(reverse=True)\n",
        "a"
      ],
      "metadata": {
        "colab": {
          "base_uri": "https://localhost:8080/"
        },
        "id": "awowaP6IvKNG",
        "outputId": "c5cc52df-9183-409a-cd9a-2a55b67e16b4"
      },
      "execution_count": null,
      "outputs": [
        {
          "output_type": "execute_result",
          "data": {
            "text/plain": [
              "[3, 2, 1, -2, -4, -5]"
            ]
          },
          "metadata": {},
          "execution_count": 3
        }
      ]
    },
    {
      "cell_type": "code",
      "source": [
        "#WAP TO CYCLICALLY ROTATE AN ARRAY ONE BY ONE\n",
        "a=[1,2,3,4,5]\n",
        "n=len(a)\n",
        "temp=a[n-1]\n",
        "for i in range(n-1,0,-1):\n",
        "  a[i]=a[i-1]\n",
        "a[0]=temp\n",
        "a\n",
        "\n",
        "#Find missing number\n",
        "N=5\n",
        "a=[1,2,3,5]\n",
        "n=N*(N+1)/2\n",
        "n-sum(a)"
      ],
      "metadata": {
        "colab": {
          "base_uri": "https://localhost:8080/"
        },
        "id": "b-n_2E-swB01",
        "outputId": "c12f5b85-e07a-41f6-a7a1-0c5aa52713fb"
      },
      "execution_count": null,
      "outputs": [
        {
          "output_type": "execute_result",
          "data": {
            "text/plain": [
              "4.0"
            ]
          },
          "metadata": {},
          "execution_count": 11
        }
      ]
    },
    {
      "cell_type": "code",
      "source": [
        "#Count pairs with given sum\n",
        "def fn(a,k):\n",
        "  ct=0\n",
        "  for i in range(len(a)):\n",
        "    for j in range(i,len(a)):\n",
        "      if a[i]+a[j]==k:\n",
        "        ct+=1\n",
        "  return ct\n",
        "a=[1,5,7,1]\n",
        "n=4\n",
        "k=6\n",
        "fn(a,k)\n"
      ],
      "metadata": {
        "colab": {
          "base_uri": "https://localhost:8080/"
        },
        "id": "bSUUrlzk7kEC",
        "outputId": "5be11294-6881-46e0-edbc-bc5000e8dfa4"
      },
      "execution_count": null,
      "outputs": [
        {
          "output_type": "execute_result",
          "data": {
            "text/plain": [
              "2"
            ]
          },
          "metadata": {},
          "execution_count": 13
        }
      ]
    },
    {
      "cell_type": "code",
      "source": [
        "def fn(a,k):\n",
        "  a.sort()\n",
        "  ct=0\n",
        "  n=len(a)\n",
        "  i=0\n",
        "  j=n-1\n",
        "  while(i<j):\n",
        "    if a[i]+a[j]==k:\n",
        "      ct+=1\n",
        "    elif a[i]+a[j]>k:\n",
        "      j=j-1\n",
        "    else:\n",
        "      i=i+1\n",
        "  return ct\n",
        "a=[1,5,7,1]\n",
        "n=4\n",
        "k=6\n",
        "fn(a,k)\n"
      ],
      "metadata": {
        "colab": {
          "base_uri": "https://localhost:8080/",
          "height": 322
        },
        "id": "7pQCNCse-DHX",
        "outputId": "c8595aa4-e69c-4c42-f190-b93a46f598fb"
      },
      "execution_count": null,
      "outputs": [
        {
          "output_type": "error",
          "ename": "KeyboardInterrupt",
          "evalue": "ignored",
          "traceback": [
            "\u001b[0;31m---------------------------------------------------------------------------\u001b[0m",
            "\u001b[0;31mKeyboardInterrupt\u001b[0m                         Traceback (most recent call last)",
            "\u001b[0;32m<ipython-input-23-a269efec3f03>\u001b[0m in \u001b[0;36m<module>\u001b[0;34m\u001b[0m\n\u001b[1;32m     16\u001b[0m \u001b[0mn\u001b[0m\u001b[0;34m=\u001b[0m\u001b[0;36m4\u001b[0m\u001b[0;34m\u001b[0m\u001b[0;34m\u001b[0m\u001b[0m\n\u001b[1;32m     17\u001b[0m \u001b[0mk\u001b[0m\u001b[0;34m=\u001b[0m\u001b[0;36m6\u001b[0m\u001b[0;34m\u001b[0m\u001b[0;34m\u001b[0m\u001b[0m\n\u001b[0;32m---> 18\u001b[0;31m \u001b[0mfn\u001b[0m\u001b[0;34m(\u001b[0m\u001b[0ma\u001b[0m\u001b[0;34m,\u001b[0m\u001b[0mk\u001b[0m\u001b[0;34m)\u001b[0m\u001b[0;34m\u001b[0m\u001b[0;34m\u001b[0m\u001b[0m\n\u001b[0m",
            "\u001b[0;32m<ipython-input-23-a269efec3f03>\u001b[0m in \u001b[0;36mfn\u001b[0;34m(a, k)\u001b[0m\n\u001b[1;32m      6\u001b[0m   \u001b[0mj\u001b[0m\u001b[0;34m=\u001b[0m\u001b[0mn\u001b[0m\u001b[0;34m-\u001b[0m\u001b[0;36m1\u001b[0m\u001b[0;34m\u001b[0m\u001b[0;34m\u001b[0m\u001b[0m\n\u001b[1;32m      7\u001b[0m   \u001b[0;32mwhile\u001b[0m\u001b[0;34m(\u001b[0m\u001b[0mi\u001b[0m\u001b[0;34m<\u001b[0m\u001b[0mj\u001b[0m\u001b[0;34m)\u001b[0m\u001b[0;34m:\u001b[0m\u001b[0;34m\u001b[0m\u001b[0;34m\u001b[0m\u001b[0m\n\u001b[0;32m----> 8\u001b[0;31m     \u001b[0;32mif\u001b[0m \u001b[0ma\u001b[0m\u001b[0;34m[\u001b[0m\u001b[0mi\u001b[0m\u001b[0;34m]\u001b[0m\u001b[0;34m+\u001b[0m\u001b[0ma\u001b[0m\u001b[0;34m[\u001b[0m\u001b[0mj\u001b[0m\u001b[0;34m]\u001b[0m\u001b[0;34m==\u001b[0m\u001b[0mk\u001b[0m\u001b[0;34m:\u001b[0m\u001b[0;34m\u001b[0m\u001b[0;34m\u001b[0m\u001b[0m\n\u001b[0m\u001b[1;32m      9\u001b[0m       \u001b[0mct\u001b[0m\u001b[0;34m+=\u001b[0m\u001b[0;36m1\u001b[0m\u001b[0;34m\u001b[0m\u001b[0;34m\u001b[0m\u001b[0m\n\u001b[1;32m     10\u001b[0m     \u001b[0;32melif\u001b[0m \u001b[0ma\u001b[0m\u001b[0;34m[\u001b[0m\u001b[0mi\u001b[0m\u001b[0;34m]\u001b[0m\u001b[0;34m+\u001b[0m\u001b[0ma\u001b[0m\u001b[0;34m[\u001b[0m\u001b[0mj\u001b[0m\u001b[0;34m]\u001b[0m\u001b[0;34m>\u001b[0m\u001b[0mk\u001b[0m\u001b[0;34m:\u001b[0m\u001b[0;34m\u001b[0m\u001b[0;34m\u001b[0m\u001b[0m\n",
            "\u001b[0;31mKeyboardInterrupt\u001b[0m: "
          ]
        }
      ]
    },
    {
      "cell_type": "code",
      "source": [
        "#Find duplicates in an array\n",
        "a=[2,3,1,2,3]\n",
        "d={}\n",
        "for i in a:\n",
        "  if i not in d.keys():\n",
        "    d[i]=0\n",
        "  d[i]+=1\n",
        "d\n",
        "for i,j in d.items():\n",
        "  if j>1:\n",
        "    print(i,end=' ')"
      ],
      "metadata": {
        "colab": {
          "base_uri": "https://localhost:8080/"
        },
        "id": "mLXIrF-b-hdC",
        "outputId": "9f98199a-22b3-4ea4-d6cc-19058fda3bb5"
      },
      "execution_count": null,
      "outputs": [
        {
          "output_type": "stream",
          "name": "stdout",
          "text": [
            "2 3 "
          ]
        }
      ]
    },
    {
      "cell_type": "code",
      "source": [
        "#SORTING A ARRAY WITH QUICK SORT\n",
        "#need to watch from a youtube\n",
        "\n",
        "\n",
        "\n",
        "#FIRST NON-REPEATING ELEMENT IN AN ARRAY\n",
        "n=[1,5,3,4,3,5,6,2,4,2]\n",
        "d={}\n",
        "for i in n:\n",
        "  if i not in d.keys():\n",
        "    d[i]=0\n",
        "  d[i]+=1\n",
        "\n",
        "for i,j in d.items():\n",
        "  if j>1:\n",
        "    print(n.index(i))\n",
        "    break\n",
        "    \n",
        "\n",
        "\n"
      ],
      "metadata": {
        "colab": {
          "base_uri": "https://localhost:8080/"
        },
        "id": "XFRSYMI5BT5Q",
        "outputId": "988c08d4-f6bc-43c3-b95d-6c92e33a380c"
      },
      "execution_count": null,
      "outputs": [
        {
          "output_type": "stream",
          "name": "stdout",
          "text": [
            "1\n"
          ]
        }
      ]
    },
    {
      "cell_type": "code",
      "source": [
        "a=[1,2,3,4,5]\n",
        "a.index(3)"
      ],
      "metadata": {
        "colab": {
          "base_uri": "https://localhost:8080/"
        },
        "id": "EPecEEXCC2mh",
        "outputId": "07a6c5be-68bd-4a7d-93c0-ff3d502ea3a1"
      },
      "execution_count": null,
      "outputs": [
        {
          "output_type": "execute_result",
          "data": {
            "text/plain": [
              "2"
            ]
          },
          "metadata": {},
          "execution_count": 38
        }
      ]
    },
    {
      "cell_type": "code",
      "source": [
        "#subarray with k sum\n",
        "a='(((())()))'\n",
        "ct=0\n",
        "\n",
        "for i in a:\n",
        "  if i==')':\n",
        "    ct+=1\n",
        "  if i=='(':\n",
        "    ct-=1\n",
        "if ct==0:\n",
        "  print(True)\n",
        "else:\n",
        "  print(False)\n",
        "\n",
        "  "
      ],
      "metadata": {
        "colab": {
          "base_uri": "https://localhost:8080/"
        },
        "id": "heDV-PXBDpuP",
        "outputId": "c5766ff6-0188-49af-bf92-8f77fac2fabd"
      },
      "execution_count": null,
      "outputs": [
        {
          "output_type": "stream",
          "name": "stdout",
          "text": [
            "True\n"
          ]
        }
      ]
    },
    {
      "cell_type": "code",
      "source": [
        "num=123\n",
        "sum=0\n",
        "temp=num\n",
        "while(num>0):\n",
        "  rem=num%10\n",
        "  sum=sum*10+rem\n",
        "  num=num//10\n",
        "print(sum) "
      ],
      "metadata": {
        "colab": {
          "base_uri": "https://localhost:8080/"
        },
        "id": "6Xp-1Vs6Hmfv",
        "outputId": "733f810a-f08f-49e7-a046-fd195729d88b"
      },
      "execution_count": null,
      "outputs": [
        {
          "output_type": "stream",
          "name": "stdout",
          "text": [
            "321\n"
          ]
        }
      ]
    },
    {
      "cell_type": "code",
      "source": [],
      "metadata": {
        "id": "pw4uUtrtKjOL"
      },
      "execution_count": null,
      "outputs": []
    }
  ]
}